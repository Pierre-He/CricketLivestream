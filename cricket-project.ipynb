{
 "cells": [
  {
   "cell_type": "code",
   "execution_count": null,
   "id": "a6a1ccc5",
   "metadata": {
    "tags": []
   },
   "outputs": [],
   "source": [
    "pip install pandas\n"
   ]
  },
  {
   "cell_type": "code",
   "execution_count": null,
   "id": "505c0b6e",
   "metadata": {},
   "outputs": [],
   "source": [
    "pip install pyspark"
   ]
  },
  {
   "cell_type": "markdown",
   "id": "2be263ec",
   "metadata": {
    "vscode": {
     "languageId": "plaintext"
    }
   },
   "source": [
    "Here we install the dependancies that are pandas and sqlite3.   \n",
    "\n",
    "Then we load the two csv files using the pandas function 'read_csv' and store them into two variables \n",
    "\"deliveries\" and \"matches\"."
   ]
  },
  {
   "cell_type": "code",
   "execution_count": null,
   "id": "20791daa",
   "metadata": {
    "tags": []
   },
   "outputs": [],
   "source": [
    "import pandas as pd\n",
    "import sqlite3\n",
    "\n",
    "deliveries = pd.read_csv('deliveries.csv')\n",
    "matches = pd.read_csv('matches.csv')"
   ]
  },
  {
   "cell_type": "markdown",
   "id": "477aff5b",
   "metadata": {},
   "source": [
    "Here we are trying to connect to the SQLite database \"cricket_data\", and we store it in the variable \"connect_db\". In order to do that, we first use sqlite3's 'connect' function, that will check whether a file named \"cricket_data.db\" exists, if it's the case then it will connect to it; else it will create a new database file named like that. \n",
    "\n",
    "Then we create a cursor object in order to execute SQL commands to the database."
   ]
  },
  {
   "cell_type": "code",
   "execution_count": null,
   "id": "339c31fb",
   "metadata": {
    "tags": []
   },
   "outputs": [],
   "source": [
    "connect_db = sqlite3.connect('cricket_data.db')\n",
    "cursor = connect_db.cursor()"
   ]
  },
  {
   "cell_type": "code",
   "execution_count": null,
   "id": "8e0046b7",
   "metadata": {
    "tags": []
   },
   "outputs": [],
   "source": [
    "deliveries.to_sql('deliveries', connect_db, if_exists='replace', index=False)\n",
    "matches.to_sql('matches',connect_db,if_exists='replace',index=False)"
   ]
  },
  {
   "cell_type": "code",
   "execution_count": null,
   "id": "fdc6f471",
   "metadata": {},
   "outputs": [],
   "source": [
    "connect_db.commit()\n",
    "# connect_db.close()"
   ]
  },
  {
   "cell_type": "code",
   "execution_count": null,
   "id": "db7ecaf5",
   "metadata": {},
   "outputs": [],
   "source": [
    "from pyspark.sql import SparkSession\n",
    "from pyspark.sql.functions import col\n",
    "\n",
    "# Créer une session Spark\n",
    "spark = SparkSession.builder \\\n",
    "    .appName(\"Check NULLs in CSV files\") \\\n",
    "    .getOrCreate()\n",
    "\n",
    "# Charger les fichiers CSV dans des DataFrames Spark\n",
    "deliveries_df = spark.read.csv('deliveries.csv', header=True, inferSchema=True)\n",
    "matches_df = spark.read.csv('matches.csv', header=True, inferSchema=True)\n",
    "\n",
    "# Fonction pour compter les valeurs NULL dans chaque colonne d'un DataFrame\n",
    "def count_nulls(df):\n",
    "    null_counts = {}\n",
    "    for column in df.columns:\n",
    "        # Compter les valeurs NULL\n",
    "        null_count = df.filter(col(column).isNull()).count()\n",
    "        \n",
    "        # Stocker les résultats\n",
    "        null_counts[column] = null_count\n",
    "    return null_counts\n",
    "\n",
    "# Compter les valeurs NULL pour le DataFrame deliveries\n",
    "deliveries_null_counts = count_nulls(deliveries_df)\n",
    "\n",
    "# Compter les valeurs NULL pour le DataFrame matches\n",
    "matches_null_counts = count_nulls(matches_df)\n",
    "\n",
    "# Afficher les résultats pour le fichier deliveries.csv\n",
    "print(\"Résultats pour 'deliveries.csv':\")\n",
    "for column, count in deliveries_null_counts.items():\n",
    "    print(f\"Colonne '{column}': {count} NULL\")\n",
    "\n",
    "# Afficher les résultats pour le fichier matches.csv\n",
    "print(\"\\nRésultats pour 'matches.csv':\")\n",
    "for column, count in matches_null_counts.items():\n",
    "    print(f\"Colonne '{column}': {count} NULL\")\n",
    "\n",
    "# Fermer la session Spark\n",
    "spark.stop()"
   ]
  },
  {
   "cell_type": "code",
   "execution_count": null,
   "id": "ef1db8e3",
   "metadata": {},
   "outputs": [],
   "source": [
    "#Delete the columns with too many null values\n",
    "matches_df = matches_df.drop('umpire3')\n",
    "\n",
    "# Supprimer la colonne \"player_dismissal\" de deliveries_df\n",
    "deliveries_df = deliveries_df.drop('player_dismissal').drop('dismissal_kind').drop('fielder')\n",
    "\n",
    "# Afficher le schéma mis à jour des DataFrames pour vérification\n",
    "print(\"Schema de deliveries_df après suppression de 'player_dismissal':\")\n",
    "deliveries_df.printSchema()\n",
    "\n",
    "print(\"\\nSchema de matches_df après suppression de 'umpire3':\")\n",
    "matches_df.printSchema()\n",
    "\n",
    "# Fermer la session Spark\n",
    "spark.stop()"
   ]
  },
  {
   "cell_type": "code",
   "execution_count": null,
   "id": "0ae03600",
   "metadata": {},
   "outputs": [],
   "source": [
    "# Créer une session Spark\n",
    "spark = SparkSession.builder \\\n",
    "    .appName(\"Display Venue when City is Null\") \\\n",
    "    .getOrCreate()\n",
    "\n",
    "# Charger le fichier CSV dans un DataFrame Spark\n",
    "matches_df = spark.read.csv('matches.csv', header=True, inferSchema=True)\n",
    "\n",
    "# Filtrer les lignes où la colonne 'city' est null\n",
    "venues_with_null_city = matches_df.filter(matches_df['city'].isNull()).select('venue')\n",
    "\n",
    "# Afficher les venues lorsque la city est null\n",
    "print(\"Venues when city is null:\")\n",
    "venues_with_null_city.show(truncate=False)\n",
    "\n",
    "# Fermer la session Spark\n",
    "spark.stop()"
   ]
  },
  {
   "cell_type": "code",
   "execution_count": null,
   "id": "25fbb7a9",
   "metadata": {},
   "outputs": [],
   "source": [
    "from pyspark.sql.functions import when\n",
    "\n",
    "# Créer une session Spark\n",
    "spark = SparkSession.builder \\\n",
    "    .appName(\"Replace City when Venue is Dubai International Cricket Stadium\") \\\n",
    "    .getOrCreate()\n",
    "\n",
    "# Charger le fichier CSV dans un DataFrame Spark\n",
    "matches_df = spark.read.csv('matches.csv', header=True, inferSchema=True)\n",
    "\n",
    "# Remplacer la valeur de 'city' lorsque 'venue' est 'Dubai International Cricket Stadium'\n",
    "matches_df = matches_df.withColumn('city', when(matches_df['venue'] == 'Dubai International Cricket Stadium', 'Dubai').otherwise(matches_df['city']))\n",
    "\n",
    "# Fermer la session Spark\n",
    "spark.stop()\n"
   ]
  },
  {
   "cell_type": "code",
   "execution_count": null,
   "id": "e5a91a4b",
   "metadata": {},
   "outputs": [],
   "source": [
    "# Create Spark session\n",
    "spark = SparkSession.builder \\\n",
    "    .appName(\"Min and Max Check\") \\\n",
    "    .getOrCreate()\n",
    "\n",
    "# Load CSV data into DataFrames\n",
    "matches_df = spark.read.csv('matches.csv', header=True, inferSchema=True)\n",
    "deliveries_df = spark.read.csv('deliveries.csv', header=True, inferSchema=True)\n",
    "\n",
    "\n",
    "from pyspark.sql.functions import min, max\n",
    "\n",
    "# Specify columns to check\n",
    "matches_columns_to_check = [\"season\", \"dl_applied\", \"win_by_runs\", \"win_by_wickets\"]\n",
    "\n",
    "# Compute min and max for each column in matches\n",
    "matches_min = matches_df.select([min(col).alias(f\"min_{col}\") for col in matches_columns_to_check])\n",
    "matches_max = matches_df.select([max(col).alias(f\"max_{col}\") for col in matches_columns_to_check])\n",
    "\n",
    "# Show the results\n",
    "matches_min.show(truncate=False)\n",
    "matches_max.show(truncate=False)\n",
    "\n",
    "\n",
    "\n",
    "# Specify columns to check\n",
    "deliveries_columns_to_check = [\"match_id\", \"inning\", \"over\", \"ball\", \"is_super_over\", \"wide_runs\", \"bye_runs\",\n",
    "                               \"legbye_runs\", \"noball_runs\", \"penalty_runs\", \"batsman_runs\", \"extra_runs\", \"total_runs\"]\n",
    "\n",
    "# Compute min and max for each column in deliveries\n",
    "deliveries_min = deliveries_df.select([min(col).alias(f\"min_{col}\") for col in deliveries_columns_to_check])\n",
    "deliveries_max = deliveries_df.select([max(col).alias(f\"max_{col}\") for col in deliveries_columns_to_check])\n",
    "\n",
    "# Show the results\n",
    "deliveries_min.show(truncate=False)\n",
    "deliveries_max.show(truncate=False)\n"
   ]
  }
 ],
 "metadata": {
  "kernelspec": {
   "display_name": "Python 3 (ipykernel)",
   "language": "python",
   "name": "python3"
  },
  "language_info": {
   "codemirror_mode": {
    "name": "ipython",
    "version": 3
   },
   "file_extension": ".py",
   "mimetype": "text/x-python",
   "name": "python",
   "nbconvert_exporter": "python",
   "pygments_lexer": "ipython3",
   "version": "3.11.2"
  }
 },
 "nbformat": 4,
 "nbformat_minor": 5
}

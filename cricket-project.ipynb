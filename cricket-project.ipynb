{
 "cells": [
  {
   "cell_type": "code",
   "execution_count": 43,
   "id": "a6a1ccc5",
   "metadata": {
    "tags": []
   },
   "outputs": [
    {
     "name": "stdout",
     "output_type": "stream",
     "text": [
      "Requirement already satisfied: pandas in c:\\users\\hepie\\anaconda3\\lib\\site-packages (2.1.4)\n",
      "Requirement already satisfied: numpy<2,>=1.23.2 in c:\\users\\hepie\\anaconda3\\lib\\site-packages (from pandas) (1.26.4)\n",
      "Requirement already satisfied: python-dateutil>=2.8.2 in c:\\users\\hepie\\anaconda3\\lib\\site-packages (from pandas) (2.8.2)\n",
      "Requirement already satisfied: pytz>=2020.1 in c:\\users\\hepie\\anaconda3\\lib\\site-packages (from pandas) (2023.3.post1)\n",
      "Requirement already satisfied: tzdata>=2022.1 in c:\\users\\hepie\\anaconda3\\lib\\site-packages (from pandas) (2023.3)\n",
      "Requirement already satisfied: six>=1.5 in c:\\users\\hepie\\anaconda3\\lib\\site-packages (from python-dateutil>=2.8.2->pandas) (1.16.0)\n",
      "Note: you may need to restart the kernel to use updated packages.\n"
     ]
    }
   ],
   "source": [
    "pip install pandas\n"
   ]
  },
  {
   "cell_type": "code",
   "execution_count": 44,
   "id": "505c0b6e",
   "metadata": {},
   "outputs": [
    {
     "name": "stdout",
     "output_type": "stream",
     "text": [
      "Requirement already satisfied: pyspark in c:\\users\\hepie\\anaconda3\\lib\\site-packages (3.5.1)\n",
      "Requirement already satisfied: py4j==0.10.9.7 in c:\\users\\hepie\\anaconda3\\lib\\site-packages (from pyspark) (0.10.9.7)\n",
      "Note: you may need to restart the kernel to use updated packages.\n"
     ]
    }
   ],
   "source": [
    "pip install pyspark"
   ]
  },
  {
   "cell_type": "markdown",
   "id": "2be263ec",
   "metadata": {
    "vscode": {
     "languageId": "plaintext"
    }
   },
   "source": [
    "Here we install the dependancies that are pandas and sqlite3.   \n",
    "\n",
    "Then we load the two csv files using the pandas function 'read_csv' and store them into two variables \n",
    "\"deliveries\" and \"matches\"."
   ]
  },
  {
   "cell_type": "code",
   "execution_count": 45,
   "id": "20791daa",
   "metadata": {
    "tags": []
   },
   "outputs": [],
   "source": [
    "import pandas as pd\n",
    "import sqlite3\n",
    "\n",
    "deliveries = pd.read_csv('deliveries.csv')\n",
    "matches = pd.read_csv('matches.csv')"
   ]
  },
  {
   "cell_type": "markdown",
   "id": "477aff5b",
   "metadata": {},
   "source": [
    "Here we are trying to connect to the SQLite database \"cricket_data\", and we store it in the variable \"connect_db\". In order to do that, we first use sqlite3's 'connect' function, that will check whether a file named \"cricket_data.db\" exists, if it's the case then it will connect to it; else it will create a new database file named like that. \n",
    "\n",
    "Then we create a cursor object in order to execute SQL commands to the database."
   ]
  },
  {
   "cell_type": "code",
   "execution_count": 46,
   "id": "339c31fb",
   "metadata": {
    "tags": []
   },
   "outputs": [],
   "source": [
    "connect_db = sqlite3.connect('cricket_data.db')\n",
    "cursor = connect_db.cursor()"
   ]
  },
  {
   "cell_type": "code",
   "execution_count": 47,
   "id": "8e0046b7",
   "metadata": {
    "tags": []
   },
   "outputs": [
    {
     "data": {
      "text/plain": [
       "636"
      ]
     },
     "execution_count": 47,
     "metadata": {},
     "output_type": "execute_result"
    }
   ],
   "source": [
    "deliveries.to_sql('deliveries', connect_db, if_exists='replace', index=False)\n",
    "matches.to_sql('matches',connect_db,if_exists='replace',index=False)"
   ]
  },
  {
   "cell_type": "code",
   "execution_count": 48,
   "id": "fdc6f471",
   "metadata": {},
   "outputs": [],
   "source": [
    "connect_db.commit()\n",
    "# connect_db.close()"
   ]
  },
  {
   "cell_type": "code",
   "execution_count": 49,
   "id": "db7ecaf5",
   "metadata": {},
   "outputs": [
    {
     "name": "stdout",
     "output_type": "stream",
     "text": [
      "Résultats pour 'deliveries.csv':\n",
      "Colonne 'match_id': 0 NULL\n",
      "Colonne 'inning': 0 NULL\n",
      "Colonne 'batting_team': 0 NULL\n",
      "Colonne 'bowling_team': 0 NULL\n",
      "Colonne 'over': 0 NULL\n",
      "Colonne 'ball': 0 NULL\n",
      "Colonne 'batsman': 0 NULL\n",
      "Colonne 'non_striker': 0 NULL\n",
      "Colonne 'bowler': 0 NULL\n",
      "Colonne 'is_super_over': 0 NULL\n",
      "Colonne 'wide_runs': 0 NULL\n",
      "Colonne 'bye_runs': 0 NULL\n",
      "Colonne 'legbye_runs': 0 NULL\n",
      "Colonne 'noball_runs': 0 NULL\n",
      "Colonne 'penalty_runs': 0 NULL\n",
      "Colonne 'batsman_runs': 0 NULL\n",
      "Colonne 'extra_runs': 0 NULL\n",
      "Colonne 'total_runs': 0 NULL\n",
      "Colonne 'player_dismissed': 143022 NULL\n",
      "Colonne 'dismissal_kind': 143022 NULL\n",
      "Colonne 'fielder': 145091 NULL\n",
      "\n",
      "Résultats pour 'matches.csv':\n",
      "Colonne 'id': 0 NULL\n",
      "Colonne 'season': 0 NULL\n",
      "Colonne 'city': 7 NULL\n",
      "Colonne 'date': 0 NULL\n",
      "Colonne 'team1': 0 NULL\n",
      "Colonne 'team2': 0 NULL\n",
      "Colonne 'toss_winner': 0 NULL\n",
      "Colonne 'toss_decision': 0 NULL\n",
      "Colonne 'result': 0 NULL\n",
      "Colonne 'dl_applied': 0 NULL\n",
      "Colonne 'winner': 3 NULL\n",
      "Colonne 'win_by_runs': 0 NULL\n",
      "Colonne 'win_by_wickets': 0 NULL\n",
      "Colonne 'player_of_match': 3 NULL\n",
      "Colonne 'venue': 0 NULL\n",
      "Colonne 'umpire1': 1 NULL\n",
      "Colonne 'umpire2': 1 NULL\n",
      "Colonne 'umpire3': 636 NULL\n"
     ]
    }
   ],
   "source": [
    "from pyspark.sql import SparkSession\n",
    "from pyspark.sql.functions import col, lit, when\n",
    "\n",
    "# Créer une session Spark\n",
    "spark = SparkSession.builder \\\n",
    "    .appName(\"Check NULLs in CSV files\") \\\n",
    "    .getOrCreate()\n",
    "\n",
    "# Charger les fichiers CSV dans des DataFrames Spark\n",
    "deliveries_df = spark.read.csv('deliveries.csv', header=True, inferSchema=True)\n",
    "matches_df = spark.read.csv('matches.csv', header=True, inferSchema=True)\n",
    "\n",
    "\n",
    "# Fonction pour compter les valeurs NULL dans chaque colonne d'un DataFrame\n",
    "def count_nulls(df):\n",
    "    null_counts = {}\n",
    "    for column in df.columns:\n",
    "        # Compter les valeurs NULL\n",
    "        null_count = df.filter(col(column).isNull()).count()\n",
    "        \n",
    "        # Stocker les résultats\n",
    "        null_counts[column] = null_count\n",
    "    return null_counts\n",
    "\n",
    "# Compter les valeurs NULL pour le DataFrame deliveries\n",
    "deliveries_null_counts = count_nulls(deliveries_df)\n",
    "\n",
    "# Compter les valeurs NULL pour le DataFrame matches\n",
    "matches_null_counts = count_nulls(matches_df)\n",
    "\n",
    "# Afficher les résultats pour le fichier deliveries.csv\n",
    "print(\"Résultats pour 'deliveries.csv':\")\n",
    "for column, count in deliveries_null_counts.items():\n",
    "    print(f\"Colonne '{column}': {count} NULL\")\n",
    "\n",
    "# Afficher les résultats pour le fichier matches.csv\n",
    "print(\"\\nRésultats pour 'matches.csv':\")\n",
    "for column, count in matches_null_counts.items():\n",
    "    print(f\"Colonne '{column}': {count} NULL\")\n",
    "\n",
    "# Fermer la session Spark\n",
    "spark.stop()"
   ]
  },
  {
   "cell_type": "code",
   "execution_count": 51,
   "id": "ef1db8e3",
   "metadata": {},
   "outputs": [
    {
     "name": "stdout",
     "output_type": "stream",
     "text": [
      "Schema de deliveries_df après suppression de 'player_dismissal':\n",
      "root\n",
      " |-- match_id: integer (nullable = true)\n",
      " |-- inning: integer (nullable = true)\n",
      " |-- batting_team: string (nullable = true)\n",
      " |-- bowling_team: string (nullable = true)\n",
      " |-- over: integer (nullable = true)\n",
      " |-- ball: integer (nullable = true)\n",
      " |-- batsman: string (nullable = true)\n",
      " |-- non_striker: string (nullable = true)\n",
      " |-- bowler: string (nullable = true)\n",
      " |-- is_super_over: integer (nullable = true)\n",
      " |-- wide_runs: integer (nullable = true)\n",
      " |-- bye_runs: integer (nullable = true)\n",
      " |-- legbye_runs: integer (nullable = true)\n",
      " |-- noball_runs: integer (nullable = true)\n",
      " |-- penalty_runs: integer (nullable = true)\n",
      " |-- batsman_runs: integer (nullable = true)\n",
      " |-- extra_runs: integer (nullable = true)\n",
      " |-- total_runs: integer (nullable = true)\n",
      " |-- player_dismissed: string (nullable = true)\n",
      "\n",
      "\n",
      "Schema de matches_df après suppression de 'umpire3':\n",
      "root\n",
      " |-- id: integer (nullable = true)\n",
      " |-- season: integer (nullable = true)\n",
      " |-- city: string (nullable = true)\n",
      " |-- date: date (nullable = true)\n",
      " |-- team1: string (nullable = true)\n",
      " |-- team2: string (nullable = true)\n",
      " |-- toss_winner: string (nullable = true)\n",
      " |-- toss_decision: string (nullable = true)\n",
      " |-- result: string (nullable = true)\n",
      " |-- dl_applied: integer (nullable = true)\n",
      " |-- winner: string (nullable = true)\n",
      " |-- win_by_runs: integer (nullable = true)\n",
      " |-- win_by_wickets: integer (nullable = true)\n",
      " |-- player_of_match: string (nullable = true)\n",
      " |-- venue: string (nullable = true)\n",
      " |-- umpire1: string (nullable = true)\n",
      " |-- umpire2: string (nullable = true)\n",
      "\n"
     ]
    }
   ],
   "source": [
    "# Dropping empty umpire3 and adding Unknown to empty others\n",
    "spark = SparkSession.builder \\\n",
    "    .appName(\"Replace with unknown or delete\") \\\n",
    "    .getOrCreate()\n",
    "\n",
    "#Delete or change to unknown\n",
    "matches_df = matches_df.withColumn('umpire1', when(col('umpire1').isNull(), lit(\"Unknown\")).otherwise(col('umpire1')))\n",
    "matches_df = matches_df.withColumn('umpire2', when(col('umpire2').isNull(), lit(\"Unknown\")).otherwise(col('umpire2')))\n",
    "matches_df = matches_df.withColumn('winner', when(col('winner').isNull(), lit(\"Unknown\")).otherwise(col('winner')))\n",
    "matches_df = matches_df.withColumn('player_of_match', when(col('player_of_match').isNull(), lit(\"Unknown\")).otherwise(col('player_of_match')))\n",
    "matches_df = matches_df.drop('umpire3')\n",
    "\n",
    "#DOES NOT UPDATE THE DB !!\n",
    "\n",
    "# Supprimer la colonne \"player_dismissal\" de deliveries_df\n",
    "deliveries_df = deliveries_df.drop('player_dismissal').drop('dismissal_kind').drop('fielder')\n",
    "\n",
    "# Afficher le schéma mis à jour des DataFrames pour vérification\n",
    "print(\"Schema de deliveries_df après suppression de 'player_dismissal':\")\n",
    "deliveries_df.printSchema()\n",
    "\n",
    "print(\"\\nSchema de matches_df après suppression de 'umpire3':\")\n",
    "matches_df.printSchema()\n",
    "\n",
    "# Fermer la session Spark\n",
    "spark.stop()"
   ]
  },
  {
   "cell_type": "code",
   "execution_count": null,
   "id": "d6acf172",
   "metadata": {},
   "outputs": [],
   "source": []
  }
 ],
 "metadata": {
  "kernelspec": {
   "display_name": "Python 3 (ipykernel)",
   "language": "python",
   "name": "python3"
  },
  "language_info": {
   "codemirror_mode": {
    "name": "ipython",
    "version": 3
   },
   "file_extension": ".py",
   "mimetype": "text/x-python",
   "name": "python",
   "nbconvert_exporter": "python",
   "pygments_lexer": "ipython3",
   "version": "3.11.7"
  }
 },
 "nbformat": 4,
 "nbformat_minor": 5
}

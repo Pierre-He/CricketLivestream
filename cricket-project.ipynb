{
 "cells": [
  {
   "cell_type": "code",
   "execution_count": 12,
   "id": "a6a1ccc5",
   "metadata": {
    "tags": []
   },
   "outputs": [
    {
     "name": "stdout",
     "output_type": "stream",
     "text": [
      "Requirement already satisfied: pandas in c:\\users\\hepie\\anaconda3\\lib\\site-packages (2.1.4)\n",
      "Requirement already satisfied: numpy<2,>=1.23.2 in c:\\users\\hepie\\anaconda3\\lib\\site-packages (from pandas) (1.26.4)\n",
      "Requirement already satisfied: python-dateutil>=2.8.2 in c:\\users\\hepie\\anaconda3\\lib\\site-packages (from pandas) (2.8.2)\n",
      "Requirement already satisfied: pytz>=2020.1 in c:\\users\\hepie\\anaconda3\\lib\\site-packages (from pandas) (2023.3.post1)\n",
      "Requirement already satisfied: tzdata>=2022.1 in c:\\users\\hepie\\anaconda3\\lib\\site-packages (from pandas) (2023.3)\n",
      "Requirement already satisfied: six>=1.5 in c:\\users\\hepie\\anaconda3\\lib\\site-packages (from python-dateutil>=2.8.2->pandas) (1.16.0)\n",
      "Note: you may need to restart the kernel to use updated packages.\n"
     ]
    }
   ],
   "source": [
    "pip install pandas"
   ]
  },
  {
   "cell_type": "markdown",
   "id": "2be263ec",
   "metadata": {
    "vscode": {
     "languageId": "plaintext"
    }
   },
   "source": [
    "Here we install the dependancies that are pandas and sqlite3.   \n",
    "\n",
    "Then we load the two csv files using the pandas function 'read_csv' and store them into two variables \n",
    "\"deliveries\" and \"matches\"."
   ]
  },
  {
   "cell_type": "code",
   "execution_count": 5,
   "id": "20791daa",
   "metadata": {
    "tags": []
   },
   "outputs": [],
   "source": [
    "import pandas as pd\n",
    "import sqlite3\n",
    "\n",
    "deliveries = pd.read_csv('deliveries.csv')\n",
    "matches = pd.read_csv('matches.csv')"
   ]
  },
  {
   "cell_type": "markdown",
   "id": "477aff5b",
   "metadata": {},
   "source": [
    "Here we are trying to connect to the SQLite database \"cricket_data\", and we store it in the variable \"connect_db\". In order to do that, we first use sqlite3's 'connect' function, that will check whether a file named \"cricket_data.db\" exists, if it's the case then it will connect to it; else it will create a new database file named like that. \n",
    "\n",
    "Then we create a cursor object in order to execute SQL commands to the database."
   ]
  },
  {
   "cell_type": "code",
   "execution_count": 8,
   "id": "339c31fb",
   "metadata": {
    "tags": []
   },
   "outputs": [],
   "source": [
    "connect_db = sqlite3.connect('cricket_data.db')\n",
    "cursor = connect_db.cursor()"
   ]
  },
  {
   "cell_type": "code",
   "execution_count": 10,
   "id": "8e0046b7",
   "metadata": {
    "tags": []
   },
   "outputs": [
    {
     "data": {
      "text/plain": [
       "636"
      ]
     },
     "execution_count": 10,
     "metadata": {},
     "output_type": "execute_result"
    }
   ],
   "source": [
    "deliveries.to_sql('deliveries', connect_db, if_exists='replace', index=False)\n",
    "matches.to_sql('matches',connect_db,if_exists='replace',index=False)"
   ]
  },
  {
   "cell_type": "code",
   "execution_count": 12,
   "id": "fdc6f471",
   "metadata": {},
   "outputs": [],
   "source": [
    "connect_db.commit()\n",
    "connect_db.close()"
   ]
  }
 ],
 "metadata": {
  "kernelspec": {
   "display_name": "Python 3 (ipykernel)",
   "language": "python",
   "name": "python3"
  },
  "language_info": {
   "codemirror_mode": {
    "name": "ipython",
    "version": 3
   },
   "file_extension": ".py",
   "mimetype": "text/x-python",
   "name": "python",
   "nbconvert_exporter": "python",
   "pygments_lexer": "ipython3",
   "version": "3.11.7"
  }
 },
 "nbformat": 4,
 "nbformat_minor": 5
}

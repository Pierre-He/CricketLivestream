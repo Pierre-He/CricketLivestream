{
 "cells": [
  {
   "cell_type": "code",
   "execution_count": 1,
   "id": "a6a1ccc5",
   "metadata": {
    "tags": []
   },
   "outputs": [
    {
     "name": "stdout",
     "output_type": "stream",
     "text": [
      "Requirement already satisfied: pandas in c:\\users\\shadow03\\appdata\\local\\programs\\python\\python311\\lib\\site-packages (1.5.3)\n",
      "Requirement already satisfied: python-dateutil>=2.8.1 in c:\\users\\shadow03\\appdata\\local\\programs\\python\\python311\\lib\\site-packages (from pandas) (2.8.2)\n",
      "Requirement already satisfied: pytz>=2020.1 in c:\\users\\shadow03\\appdata\\local\\programs\\python\\python311\\lib\\site-packages (from pandas) (2022.7.1)\n",
      "Requirement already satisfied: numpy>=1.21.0 in c:\\users\\shadow03\\appdata\\local\\programs\\python\\python311\\lib\\site-packages (from pandas) (1.24.2)\n",
      "Requirement already satisfied: six>=1.5 in c:\\users\\shadow03\\appdata\\local\\programs\\python\\python311\\lib\\site-packages (from python-dateutil>=2.8.1->pandas) (1.16.0)\n",
      "Note: you may need to restart the kernel to use updated packages.\n"
     ]
    }
   ],
   "source": [
    "pip install pandas\n"
   ]
  },
  {
   "cell_type": "code",
   "execution_count": 2,
   "id": "505c0b6e",
   "metadata": {},
   "outputs": [
    {
     "name": "stdout",
     "output_type": "stream",
     "text": [
      "Requirement already satisfied: pyspark in c:\\users\\shadow03\\appdata\\local\\programs\\python\\python311\\lib\\site-packages (3.5.1)\n",
      "Requirement already satisfied: py4j==0.10.9.7 in c:\\users\\shadow03\\appdata\\local\\programs\\python\\python311\\lib\\site-packages (from pyspark) (0.10.9.7)\n",
      "Note: you may need to restart the kernel to use updated packages.\n"
     ]
    }
   ],
   "source": [
    "pip install pyspark"
   ]
  },
  {
   "cell_type": "markdown",
   "id": "2be263ec",
   "metadata": {
    "vscode": {
     "languageId": "plaintext"
    }
   },
   "source": [
    "Here we install the dependancies that are pandas and sqlite3.   \n",
    "\n",
    "Then we load the two csv files using the pandas function 'read_csv' and store them into two variables \n",
    "\"deliveries\" and \"matches\"."
   ]
  },
  {
   "cell_type": "code",
   "execution_count": 3,
   "id": "20791daa",
   "metadata": {
    "tags": []
   },
   "outputs": [],
   "source": [
    "import pandas as pd\n",
    "import sqlite3\n",
    "\n",
    "deliveries = pd.read_csv('deliveries.csv')\n",
    "matches = pd.read_csv('matches.csv')"
   ]
  },
  {
   "cell_type": "markdown",
   "id": "477aff5b",
   "metadata": {},
   "source": [
    "Here we are trying to connect to the SQLite database \"cricket_data\", and we store it in the variable \"connect_db\". In order to do that, we first use sqlite3's 'connect' function, that will check whether a file named \"cricket_data.db\" exists, if it's the case then it will connect to it; else it will create a new database file named like that. \n",
    "\n",
    "Then we create a cursor object in order to execute SQL commands to the database."
   ]
  },
  {
   "cell_type": "code",
   "execution_count": 4,
   "id": "339c31fb",
   "metadata": {
    "tags": []
   },
   "outputs": [],
   "source": [
    "connect_db = sqlite3.connect('cricket_data.db')\n",
    "cursor = connect_db.cursor()"
   ]
  },
  {
   "cell_type": "code",
   "execution_count": 5,
   "id": "8e0046b7",
   "metadata": {
    "tags": []
   },
   "outputs": [
    {
     "data": {
      "text/plain": [
       "636"
      ]
     },
     "execution_count": 5,
     "metadata": {},
     "output_type": "execute_result"
    }
   ],
   "source": [
    "deliveries.to_sql('deliveries', connect_db, if_exists='replace', index=False)\n",
    "matches.to_sql('matches',connect_db,if_exists='replace',index=False)"
   ]
  },
  {
   "cell_type": "code",
   "execution_count": 6,
   "id": "fdc6f471",
   "metadata": {},
   "outputs": [],
   "source": [
    "connect_db.commit()\n",
    "# connect_db.close()"
   ]
  },
  {
   "cell_type": "code",
   "execution_count": 7,
   "id": "db7ecaf5",
   "metadata": {},
   "outputs": [
    {
     "name": "stdout",
     "output_type": "stream",
     "text": [
      "Résultats pour 'deliveries.csv':\n",
      "Colonne 'match_id': 0 NULL\n",
      "Colonne 'inning': 0 NULL\n",
      "Colonne 'batting_team': 0 NULL\n",
      "Colonne 'bowling_team': 0 NULL\n",
      "Colonne 'over': 0 NULL\n",
      "Colonne 'ball': 0 NULL\n",
      "Colonne 'batsman': 0 NULL\n",
      "Colonne 'non_striker': 0 NULL\n",
      "Colonne 'bowler': 0 NULL\n",
      "Colonne 'is_super_over': 0 NULL\n",
      "Colonne 'wide_runs': 0 NULL\n",
      "Colonne 'bye_runs': 0 NULL\n",
      "Colonne 'legbye_runs': 0 NULL\n",
      "Colonne 'noball_runs': 0 NULL\n",
      "Colonne 'penalty_runs': 0 NULL\n",
      "Colonne 'batsman_runs': 0 NULL\n",
      "Colonne 'extra_runs': 0 NULL\n",
      "Colonne 'total_runs': 0 NULL\n",
      "Colonne 'player_dismissed': 143022 NULL\n",
      "Colonne 'dismissal_kind': 143022 NULL\n",
      "Colonne 'fielder': 145091 NULL\n",
      "\n",
      "Résultats pour 'matches.csv':\n",
      "Colonne 'id': 0 NULL\n",
      "Colonne 'season': 0 NULL\n",
      "Colonne 'city': 7 NULL\n",
      "Colonne 'date': 0 NULL\n",
      "Colonne 'team1': 0 NULL\n",
      "Colonne 'team2': 0 NULL\n",
      "Colonne 'toss_winner': 0 NULL\n",
      "Colonne 'toss_decision': 0 NULL\n",
      "Colonne 'result': 0 NULL\n",
      "Colonne 'dl_applied': 0 NULL\n",
      "Colonne 'winner': 3 NULL\n",
      "Colonne 'win_by_runs': 0 NULL\n",
      "Colonne 'win_by_wickets': 0 NULL\n",
      "Colonne 'player_of_match': 3 NULL\n",
      "Colonne 'venue': 0 NULL\n",
      "Colonne 'umpire1': 1 NULL\n",
      "Colonne 'umpire2': 1 NULL\n",
      "Colonne 'umpire3': 636 NULL\n"
     ]
    }
   ],
   "source": [
    "from pyspark.sql import SparkSession\n",
    "from pyspark.sql.functions import col\n",
    "\n",
    "# Créer une session Spark\n",
    "spark = SparkSession.builder \\\n",
    "    .appName(\"Check NULLs in CSV files\") \\\n",
    "    .getOrCreate()\n",
    "\n",
    "# Charger les fichiers CSV dans des DataFrames Spark\n",
    "deliveries_df = spark.read.csv('deliveries.csv', header=True, inferSchema=True)\n",
    "matches_df = spark.read.csv('matches.csv', header=True, inferSchema=True)\n",
    "\n",
    "# Fonction pour compter les valeurs NULL dans chaque colonne d'un DataFrame\n",
    "def count_nulls(df):\n",
    "    null_counts = {}\n",
    "    for column in df.columns:\n",
    "        # Compter les valeurs NULL\n",
    "        null_count = df.filter(col(column).isNull()).count()\n",
    "        \n",
    "        # Stocker les résultats\n",
    "        null_counts[column] = null_count\n",
    "    return null_counts\n",
    "\n",
    "# Compter les valeurs NULL pour le DataFrame deliveries\n",
    "deliveries_null_counts = count_nulls(deliveries_df)\n",
    "\n",
    "# Compter les valeurs NULL pour le DataFrame matches\n",
    "matches_null_counts = count_nulls(matches_df)\n",
    "\n",
    "# Afficher les résultats pour le fichier deliveries.csv\n",
    "print(\"Résultats pour 'deliveries.csv':\")\n",
    "for column, count in deliveries_null_counts.items():\n",
    "    print(f\"Colonne '{column}': {count} NULL\")\n",
    "\n",
    "# Afficher les résultats pour le fichier matches.csv\n",
    "print(\"\\nRésultats pour 'matches.csv':\")\n",
    "for column, count in matches_null_counts.items():\n",
    "    print(f\"Colonne '{column}': {count} NULL\")\n",
    "\n",
    "# Fermer la session Spark\n",
    "spark.stop()"
   ]
  },
  {
   "cell_type": "code",
   "execution_count": 8,
   "id": "ef1db8e3",
   "metadata": {},
   "outputs": [
    {
     "name": "stdout",
     "output_type": "stream",
     "text": [
      "Schema de deliveries_df après suppression de 'player_dismissal':\n",
      "root\n",
      " |-- match_id: integer (nullable = true)\n",
      " |-- inning: integer (nullable = true)\n",
      " |-- batting_team: string (nullable = true)\n",
      " |-- bowling_team: string (nullable = true)\n",
      " |-- over: integer (nullable = true)\n",
      " |-- ball: integer (nullable = true)\n",
      " |-- batsman: string (nullable = true)\n",
      " |-- non_striker: string (nullable = true)\n",
      " |-- bowler: string (nullable = true)\n",
      " |-- is_super_over: integer (nullable = true)\n",
      " |-- wide_runs: integer (nullable = true)\n",
      " |-- bye_runs: integer (nullable = true)\n",
      " |-- legbye_runs: integer (nullable = true)\n",
      " |-- noball_runs: integer (nullable = true)\n",
      " |-- penalty_runs: integer (nullable = true)\n",
      " |-- batsman_runs: integer (nullable = true)\n",
      " |-- extra_runs: integer (nullable = true)\n",
      " |-- total_runs: integer (nullable = true)\n",
      " |-- player_dismissed: string (nullable = true)\n",
      "\n",
      "\n",
      "Schema de matches_df après suppression de 'umpire3':\n",
      "root\n",
      " |-- id: integer (nullable = true)\n",
      " |-- season: integer (nullable = true)\n",
      " |-- city: string (nullable = true)\n",
      " |-- date: date (nullable = true)\n",
      " |-- team1: string (nullable = true)\n",
      " |-- team2: string (nullable = true)\n",
      " |-- toss_winner: string (nullable = true)\n",
      " |-- toss_decision: string (nullable = true)\n",
      " |-- result: string (nullable = true)\n",
      " |-- dl_applied: integer (nullable = true)\n",
      " |-- winner: string (nullable = true)\n",
      " |-- win_by_runs: integer (nullable = true)\n",
      " |-- win_by_wickets: integer (nullable = true)\n",
      " |-- player_of_match: string (nullable = true)\n",
      " |-- venue: string (nullable = true)\n",
      " |-- umpire1: string (nullable = true)\n",
      " |-- umpire2: string (nullable = true)\n",
      "\n"
     ]
    }
   ],
   "source": [
    "#Delete the columns with too many null values\n",
    "matches_df = matches_df.drop('umpire3')\n",
    "\n",
    "# Supprimer la colonne \"player_dismissal\" de deliveries_df\n",
    "deliveries_df = deliveries_df.drop('player_dismissal').drop('dismissal_kind').drop('fielder')\n",
    "\n",
    "# Afficher le schéma mis à jour des DataFrames pour vérification\n",
    "print(\"Schema de deliveries_df après suppression de 'player_dismissal':\")\n",
    "deliveries_df.printSchema()\n",
    "\n",
    "print(\"\\nSchema de matches_df après suppression de 'umpire3':\")\n",
    "matches_df.printSchema()\n",
    "\n",
    "# Fermer la session Spark\n",
    "spark.stop()"
   ]
  },
  {
   "cell_type": "code",
   "execution_count": 9,
   "id": "0ae03600",
   "metadata": {},
   "outputs": [
    {
     "name": "stdout",
     "output_type": "stream",
     "text": [
      "Venues when city is null:\n",
      "+-----------------------------------+\n",
      "|venue                              |\n",
      "+-----------------------------------+\n",
      "|Dubai International Cricket Stadium|\n",
      "|Dubai International Cricket Stadium|\n",
      "|Dubai International Cricket Stadium|\n",
      "|Dubai International Cricket Stadium|\n",
      "|Dubai International Cricket Stadium|\n",
      "|Dubai International Cricket Stadium|\n",
      "|Dubai International Cricket Stadium|\n",
      "+-----------------------------------+\n",
      "\n"
     ]
    }
   ],
   "source": [
    "# Créer une session Spark\n",
    "spark = SparkSession.builder \\\n",
    "    .appName(\"Display Venue when City is Null\") \\\n",
    "    .getOrCreate()\n",
    "\n",
    "# Charger le fichier CSV dans un DataFrame Spark\n",
    "matches_df = spark.read.csv('matches.csv', header=True, inferSchema=True)\n",
    "\n",
    "# Filtrer les lignes où la colonne 'city' est null\n",
    "venues_with_null_city = matches_df.filter(matches_df['city'].isNull()).select('venue')\n",
    "\n",
    "# Afficher les venues lorsque la city est null\n",
    "print(\"Venues when city is null:\")\n",
    "venues_with_null_city.show(truncate=False)\n",
    "\n",
    "# Fermer la session Spark\n",
    "spark.stop()"
   ]
  },
  {
   "cell_type": "code",
   "execution_count": 10,
   "id": "25fbb7a9",
   "metadata": {},
   "outputs": [],
   "source": [
    "from pyspark.sql.functions import when\n",
    "\n",
    "# Créer une session Spark\n",
    "spark = SparkSession.builder \\\n",
    "    .appName(\"Replace City when Venue is Dubai International Cricket Stadium\") \\\n",
    "    .getOrCreate()\n",
    "\n",
    "# Charger le fichier CSV dans un DataFrame Spark\n",
    "matches_df = spark.read.csv('matches.csv', header=True, inferSchema=True)\n",
    "\n",
    "# Remplacer la valeur de 'city' lorsque 'venue' est 'Dubai International Cricket Stadium'\n",
    "matches_df = matches_df.withColumn('city', when(matches_df['venue'] == 'Dubai International Cricket Stadium', 'Dubai').otherwise(matches_df['city']))\n",
    "\n",
    "# Fermer la session Spark\n",
    "spark.stop()\n"
   ]
  },
  {
   "cell_type": "code",
   "execution_count": 13,
   "id": "e5a91a4b",
   "metadata": {},
   "outputs": [
    {
     "name": "stdout",
     "output_type": "stream",
     "text": [
      "+----------+--------------+---------------+------------------+\n",
      "|min_season|min_dl_applied|min_win_by_runs|min_win_by_wickets|\n",
      "+----------+--------------+---------------+------------------+\n",
      "|2008      |0             |0              |0                 |\n",
      "+----------+--------------+---------------+------------------+\n",
      "\n",
      "+----------+--------------+---------------+------------------+\n",
      "|max_season|max_dl_applied|max_win_by_runs|max_win_by_wickets|\n",
      "+----------+--------------+---------------+------------------+\n",
      "|2017      |1             |146            |10                |\n",
      "+----------+--------------+---------------+------------------+\n",
      "\n",
      "+------------+----------+--------+--------+-----------------+-------------+------------+---------------+---------------+----------------+----------------+--------------+--------------+\n",
      "|min_match_id|min_inning|min_over|min_ball|min_is_super_over|min_wide_runs|min_bye_runs|min_legbye_runs|min_noball_runs|min_penalty_runs|min_batsman_runs|min_extra_runs|min_total_runs|\n",
      "+------------+----------+--------+--------+-----------------+-------------+------------+---------------+---------------+----------------+----------------+--------------+--------------+\n",
      "|1           |1         |1       |1       |0                |0            |0           |0              |0              |0               |0               |0             |0             |\n",
      "+------------+----------+--------+--------+-----------------+-------------+------------+---------------+---------------+----------------+----------------+--------------+--------------+\n",
      "\n",
      "+------------+----------+--------+--------+-----------------+-------------+------------+---------------+---------------+----------------+----------------+--------------+--------------+\n",
      "|max_match_id|max_inning|max_over|max_ball|max_is_super_over|max_wide_runs|max_bye_runs|max_legbye_runs|max_noball_runs|max_penalty_runs|max_batsman_runs|max_extra_runs|max_total_runs|\n",
      "+------------+----------+--------+--------+-----------------+-------------+------------+---------------+---------------+----------------+----------------+--------------+--------------+\n",
      "|636         |4         |20      |9       |1                |5            |4           |5              |5              |5               |6               |7             |7             |\n",
      "+------------+----------+--------+--------+-----------------+-------------+------------+---------------+---------------+----------------+----------------+--------------+--------------+\n",
      "\n"
     ]
    }
   ],
   "source": [
    "# Create Spark session\n",
    "spark = SparkSession.builder \\\n",
    "    .appName(\"Min and Max Check\") \\\n",
    "    .getOrCreate()\n",
    "\n",
    "# Load CSV data into DataFrames\n",
    "matches_df = spark.read.csv('matches.csv', header=True, inferSchema=True)\n",
    "deliveries_df = spark.read.csv('deliveries.csv', header=True, inferSchema=True)\n",
    "\n",
    "\n",
    "from pyspark.sql.functions import min, max\n",
    "\n",
    "# Specify columns to check\n",
    "matches_columns_to_check = [\"season\", \"dl_applied\", \"win_by_runs\", \"win_by_wickets\"]\n",
    "\n",
    "# Compute min and max for each column in matches\n",
    "matches_min = matches_df.select([min(col).alias(f\"min_{col}\") for col in matches_columns_to_check])\n",
    "matches_max = matches_df.select([max(col).alias(f\"max_{col}\") for col in matches_columns_to_check])\n",
    "\n",
    "# Show the results\n",
    "matches_min.show(truncate=False)\n",
    "matches_max.show(truncate=False)\n",
    "\n",
    "\n",
    "\n",
    "# Specify columns to check\n",
    "deliveries_columns_to_check = [\"match_id\", \"inning\", \"over\", \"ball\", \"is_super_over\", \"wide_runs\", \"bye_runs\",\n",
    "                               \"legbye_runs\", \"noball_runs\", \"penalty_runs\", \"batsman_runs\", \"extra_runs\", \"total_runs\"]\n",
    "\n",
    "# Compute min and max for each column in deliveries\n",
    "deliveries_min = deliveries_df.select([min(col).alias(f\"min_{col}\") for col in deliveries_columns_to_check])\n",
    "deliveries_max = deliveries_df.select([max(col).alias(f\"max_{col}\") for col in deliveries_columns_to_check])\n",
    "\n",
    "# Show the results\n",
    "deliveries_min.show(truncate=False)\n",
    "deliveries_max.show(truncate=False)\n"
   ]
  }
 ],
 "metadata": {
  "kernelspec": {
   "display_name": "Python 3 (ipykernel)",
   "language": "python",
   "name": "python3"
  },
  "language_info": {
   "codemirror_mode": {
    "name": "ipython",
    "version": 3
   },
   "file_extension": ".py",
   "mimetype": "text/x-python",
   "name": "python",
   "nbconvert_exporter": "python",
   "pygments_lexer": "ipython3",
   "version": "3.11.2"
  }
 },
 "nbformat": 4,
 "nbformat_minor": 5
}

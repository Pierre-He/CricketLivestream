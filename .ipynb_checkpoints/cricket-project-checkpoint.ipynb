{
 "cells": [
  {
   "cell_type": "code",
   "execution_count": 1,
   "id": "a6a1ccc5",
   "metadata": {
    "tags": []
   },
   "outputs": [
    {
     "name": "stdout",
     "output_type": "stream",
     "text": [
      "Requirement already satisfied: pandas in c:\\users\\hepie\\anaconda3\\lib\\site-packages (2.1.4)\n",
      "Requirement already satisfied: numpy<2,>=1.23.2 in c:\\users\\hepie\\anaconda3\\lib\\site-packages (from pandas) (1.26.4)\n",
      "Requirement already satisfied: python-dateutil>=2.8.2 in c:\\users\\hepie\\anaconda3\\lib\\site-packages (from pandas) (2.8.2)\n",
      "Requirement already satisfied: pytz>=2020.1 in c:\\users\\hepie\\anaconda3\\lib\\site-packages (from pandas) (2023.3.post1)\n",
      "Requirement already satisfied: tzdata>=2022.1 in c:\\users\\hepie\\anaconda3\\lib\\site-packages (from pandas) (2023.3)\n",
      "Requirement already satisfied: six>=1.5 in c:\\users\\hepie\\anaconda3\\lib\\site-packages (from python-dateutil>=2.8.2->pandas) (1.16.0)\n",
      "Note: you may need to restart the kernel to use updated packages.\n"
     ]
    }
   ],
   "source": [
    "pip install pandas\n"
   ]
  },
  {
   "cell_type": "code",
   "execution_count": 2,
   "id": "505c0b6e",
   "metadata": {},
   "outputs": [
    {
     "name": "stdout",
     "output_type": "stream",
     "text": [
      "Requirement already satisfied: pyspark in c:\\users\\hepie\\anaconda3\\lib\\site-packages (3.5.1)\n",
      "Requirement already satisfied: py4j==0.10.9.7 in c:\\users\\hepie\\anaconda3\\lib\\site-packages (from pyspark) (0.10.9.7)\n",
      "Note: you may need to restart the kernel to use updated packages.\n"
     ]
    }
   ],
   "source": [
    "pip install pyspark"
   ]
  },
  {
   "cell_type": "code",
   "execution_count": null,
   "id": "208fe08f",
   "metadata": {},
   "outputs": [],
   "source": []
  },
  {
   "cell_type": "markdown",
   "id": "2be263ec",
   "metadata": {
    "vscode": {
     "languageId": "plaintext"
    }
   },
   "source": [
    "Here we install the dependancies that are pandas and sqlite3.   \n",
    "\n",
    "Then we load the two csv files using the pandas function 'read_csv' and store them into two variables \n",
    "\"deliveries\" and \"matches\"."
   ]
  },
  {
   "cell_type": "code",
   "execution_count": 3,
   "id": "20791daa",
   "metadata": {
    "tags": []
   },
   "outputs": [],
   "source": [
    "import pandas as pd\n",
    "import sqlite3\n",
    "\n",
    "deliveries = pd.read_csv('deliveries.csv')\n",
    "matches = pd.read_csv('matches.csv')"
   ]
  },
  {
   "cell_type": "markdown",
   "id": "477aff5b",
   "metadata": {},
   "source": [
    "Here we are trying to connect to the SQLite database \"cricket_data\", and we store it in the variable \"connect_db\". In order to do that, we first use sqlite3's 'connect' function, that will check whether a file named \"cricket_data.db\" exists, if it's the case then it will connect to it; else it will create a new database file named like that. \n",
    "\n",
    "Then we create a cursor object in order to execute SQL commands to the database."
   ]
  },
  {
   "cell_type": "code",
   "execution_count": 4,
   "id": "339c31fb",
   "metadata": {
    "tags": []
   },
   "outputs": [],
   "source": [
    "connect_db = sqlite3.connect('cricket_data.db')\n",
    "cursor = connect_db.cursor()"
   ]
  },
  {
   "cell_type": "code",
   "execution_count": 5,
   "id": "8e0046b7",
   "metadata": {
    "tags": []
   },
   "outputs": [
    {
     "data": {
      "text/plain": [
       "636"
      ]
     },
     "execution_count": 5,
     "metadata": {},
     "output_type": "execute_result"
    }
   ],
   "source": [
    "deliveries.to_sql('deliveries', connect_db, if_exists='replace', index=False)\n",
    "matches.to_sql('matches',connect_db,if_exists='replace',index=False)"
   ]
  },
  {
   "cell_type": "code",
   "execution_count": 6,
   "id": "fdc6f471",
   "metadata": {},
   "outputs": [],
   "source": [
    "connect_db.commit()\n",
    "connect_db.close()"
   ]
  },
  {
   "cell_type": "code",
   "execution_count": 7,
   "id": "db7ecaf5",
   "metadata": {},
   "outputs": [
    {
     "name": "stdout",
     "output_type": "stream",
     "text": [
      "Résultats pour 'deliveries.csv':\n",
      "Colonne 'match_id': 0 NULL\n",
      "Colonne 'inning': 0 NULL\n",
      "Colonne 'batting_team': 0 NULL\n",
      "Colonne 'bowling_team': 0 NULL\n",
      "Colonne 'over': 0 NULL\n",
      "Colonne 'ball': 0 NULL\n",
      "Colonne 'batsman': 0 NULL\n",
      "Colonne 'non_striker': 0 NULL\n",
      "Colonne 'bowler': 0 NULL\n",
      "Colonne 'is_super_over': 0 NULL\n",
      "Colonne 'wide_runs': 0 NULL\n",
      "Colonne 'bye_runs': 0 NULL\n",
      "Colonne 'legbye_runs': 0 NULL\n",
      "Colonne 'noball_runs': 0 NULL\n",
      "Colonne 'penalty_runs': 0 NULL\n",
      "Colonne 'batsman_runs': 0 NULL\n",
      "Colonne 'extra_runs': 0 NULL\n",
      "Colonne 'total_runs': 0 NULL\n",
      "Colonne 'player_dismissed': 143022 NULL\n",
      "Colonne 'dismissal_kind': 143022 NULL\n",
      "Colonne 'fielder': 145091 NULL\n",
      "\n",
      "Résultats pour 'matches.csv':\n",
      "Colonne 'id': 0 NULL\n",
      "Colonne 'season': 0 NULL\n",
      "Colonne 'city': 7 NULL\n",
      "Colonne 'date': 0 NULL\n",
      "Colonne 'team1': 0 NULL\n",
      "Colonne 'team2': 0 NULL\n",
      "Colonne 'toss_winner': 0 NULL\n",
      "Colonne 'toss_decision': 0 NULL\n",
      "Colonne 'result': 0 NULL\n",
      "Colonne 'dl_applied': 0 NULL\n",
      "Colonne 'winner': 3 NULL\n",
      "Colonne 'win_by_runs': 0 NULL\n",
      "Colonne 'win_by_wickets': 0 NULL\n",
      "Colonne 'player_of_match': 3 NULL\n",
      "Colonne 'venue': 0 NULL\n",
      "Colonne 'umpire1': 1 NULL\n",
      "Colonne 'umpire2': 1 NULL\n",
      "Colonne 'umpire3': 636 NULL\n"
     ]
    }
   ],
   "source": [
    "from pyspark.sql import SparkSession\n",
    "from pyspark.sql.functions import col, lit, when\n",
    "\n",
    "# Créer une session Spark\n",
    "spark = SparkSession.builder \\\n",
    "    .appName(\"nullChecker\") \\\n",
    "    .getOrCreate()\n",
    "\n",
    "# Charger les fichiers CSV dans des DataFrames Spark\n",
    "deliveries_df = spark.read.csv('deliveries.csv', header=True, inferSchema=True)\n",
    "matches_df = spark.read.csv('matches.csv', header=True, inferSchema=True)\n",
    "\n",
    "\n",
    "# Fonction pour compter les valeurs NULL dans chaque colonne d'un DataFrame\n",
    "def count_nulls(df):\n",
    "    null_counts = {}\n",
    "    for column in df.columns:\n",
    "        # Compter les valeurs NULL\n",
    "        null_count = df.filter(col(column).isNull()).count()\n",
    "        \n",
    "        # Stocker les résultats\n",
    "        null_counts[column] = null_count\n",
    "    return null_counts\n",
    "\n",
    "# Compter les valeurs NULL pour le DataFrame deliveries\n",
    "deliveries_null_counts = count_nulls(deliveries_df)\n",
    "\n",
    "# Compter les valeurs NULL pour le DataFrame matches\n",
    "matches_null_counts = count_nulls(matches_df)\n",
    "\n",
    "# Afficher les résultats pour le fichier deliveries.csv\n",
    "print(\"Résultats pour 'deliveries.csv':\")\n",
    "for column, count in deliveries_null_counts.items():\n",
    "    print(f\"Colonne '{column}': {count} NULL\")\n",
    "\n",
    "# Afficher les résultats pour le fichier matches.csv\n",
    "print(\"\\nRésultats pour 'matches.csv':\")\n",
    "for column, count in matches_null_counts.items():\n",
    "    print(f\"Colonne '{column}': {count} NULL\")\n",
    "\n",
    "# Fermer la session Spark\n",
    "spark.stop()"
   ]
  },
  {
   "cell_type": "code",
   "execution_count": 8,
   "id": "ef1db8e3",
   "metadata": {},
   "outputs": [
    {
     "name": "stdout",
     "output_type": "stream",
     "text": [
      "Schema de deliveries_df après suppression de 'player_dismissal':\n",
      "root\n",
      " |-- match_id: integer (nullable = true)\n",
      " |-- inning: integer (nullable = true)\n",
      " |-- batting_team: string (nullable = true)\n",
      " |-- bowling_team: string (nullable = true)\n",
      " |-- over: integer (nullable = true)\n",
      " |-- ball: integer (nullable = true)\n",
      " |-- batsman: string (nullable = true)\n",
      " |-- non_striker: string (nullable = true)\n",
      " |-- bowler: string (nullable = true)\n",
      " |-- is_super_over: integer (nullable = true)\n",
      " |-- wide_runs: integer (nullable = true)\n",
      " |-- bye_runs: integer (nullable = true)\n",
      " |-- legbye_runs: integer (nullable = true)\n",
      " |-- noball_runs: integer (nullable = true)\n",
      " |-- penalty_runs: integer (nullable = true)\n",
      " |-- batsman_runs: integer (nullable = true)\n",
      " |-- extra_runs: integer (nullable = true)\n",
      " |-- total_runs: integer (nullable = true)\n",
      " |-- player_dismissed: string (nullable = true)\n",
      "\n",
      "\n",
      "Schema de matches_df après suppression de 'umpire3':\n",
      "root\n",
      " |-- id: integer (nullable = true)\n",
      " |-- season: integer (nullable = true)\n",
      " |-- city: string (nullable = true)\n",
      " |-- date: date (nullable = true)\n",
      " |-- team1: string (nullable = true)\n",
      " |-- team2: string (nullable = true)\n",
      " |-- toss_winner: string (nullable = true)\n",
      " |-- toss_decision: string (nullable = true)\n",
      " |-- result: string (nullable = true)\n",
      " |-- dl_applied: integer (nullable = true)\n",
      " |-- winner: string (nullable = true)\n",
      " |-- win_by_runs: integer (nullable = true)\n",
      " |-- win_by_wickets: integer (nullable = true)\n",
      " |-- player_of_match: string (nullable = true)\n",
      " |-- venue: string (nullable = true)\n",
      " |-- umpire1: string (nullable = true)\n",
      " |-- umpire2: string (nullable = true)\n",
      "\n"
     ]
    }
   ],
   "source": [
    "# Dropping empty umpire3 and adding Unknown to empty others\n",
    "spark = SparkSession.builder \\\n",
    "    .appName(\"unknownReplacerDeleter\") \\\n",
    "    .getOrCreate()\n",
    "\n",
    "#Delete or change to unknown\n",
    "matches_df = matches_df.withColumn('umpire1', when(col('umpire1').isNull(), lit(\"Unknown\")).otherwise(col('umpire1')))\n",
    "matches_df = matches_df.withColumn('umpire2', when(col('umpire2').isNull(), lit(\"Unknown\")).otherwise(col('umpire2')))\n",
    "matches_df = matches_df.withColumn('winner', when(col('winner').isNull(), lit(\"Unknown\")).otherwise(col('winner')))\n",
    "matches_df = matches_df.withColumn('player_of_match', when(col('player_of_match').isNull(), lit(\"Unknown\")).otherwise(col('player_of_match')))\n",
    "matches_df = matches_df.drop('umpire3')\n",
    "\n",
    "deliveries_df = deliveries_df.drop('player_dismissal').drop('dismissal_kind').drop('fielder')\n",
    "\n",
    "# Afficher le schéma mis à jour des DataFrames pour vérification\n",
    "print(\"Schema de deliveries_df après suppression de 'player_dismissal':\")\n",
    "deliveries_df.printSchema()\n",
    "print(\"\\nSchema de matches_df après suppression de 'umpire3':\")\n",
    "matches_df.printSchema()\n",
    "\n",
    "#DOES NOT UPDATE THE DB !!\n",
    "\"\"\"\"\n",
    "matches_pd = matches_df.toPandas()\n",
    "\n",
    "# Determine the directory where the notebook is running\n",
    "notebook_dir = os.getcwd()\n",
    "cleaned_file_path = os.path.join(notebook_dir, 'cleaned_matches_spark.csv')\n",
    "\n",
    "# Save the cleaned DataFrame to a CSV file\n",
    "matches_pd.to_csv(cleaned_file_path, index=False)\n",
    "\"\"\"\n",
    "# Fermer la session Spark\n",
    "spark.stop()\n"
   ]
  },
  {
   "cell_type": "code",
   "execution_count": null,
   "id": "d6acf172",
   "metadata": {},
   "outputs": [],
   "source": [
    "\"\"\"\n",
    "#Create to MondoDB\n",
    "\n",
    "from pyspark import SparkContext\n",
    "from pyspark.sql import SQLContext\n",
    "\n",
    "\n",
    "spark = SparkSession.builder \\\n",
    "    .appName(\"mongoDBBridge\") \\\n",
    "    .config(\"spark.jars.packages\", \"org.mongodb.spark:mongo-spark-connector_2.12:10.0.0\") \\\n",
    "    .config(\"spark.mongodb.read.connection.uri\",\"mongodb://localhost:27017/cricketDatabase\") \\\n",
    "    .getOrCreate()\n",
    "\n",
    "matches_df.write.format(\"mongodb\").option(\"replaceDocument\", \"true\").option(\"database\", \"cricketDatabase\").option(\"collection\", \"matches\").save()   \n",
    "deliveries_df.write.format(\"mongodb\").mode(\"append\").option(\"database\", \"cricketDatabase\").option(\"collection\", \"deliveries\").save()\n",
    "spark.stop()\n",
    "\"\"\""
   ]
  },
  {
   "cell_type": "code",
   "execution_count": null,
   "id": "cd89292c",
   "metadata": {},
   "outputs": [],
   "source": [
    "pip install pymongo"
   ]
  },
  {
   "cell_type": "code",
   "execution_count": 11,
   "id": "ef7aa85c",
   "metadata": {},
   "outputs": [
    {
     "ename": "InvalidDocument",
     "evalue": "cannot encode object: datetime.date(2017, 4, 5), of type: <class 'datetime.date'>",
     "output_type": "error",
     "traceback": [
      "\u001b[1;31m---------------------------------------------------------------------------\u001b[0m",
      "\u001b[1;31mInvalidDocument\u001b[0m                           Traceback (most recent call last)",
      "Cell \u001b[1;32mIn[11], line 45\u001b[0m\n\u001b[0;32m     43\u001b[0m \u001b[38;5;66;03m# Insert data into MongoDB collections\u001b[39;00m\n\u001b[0;32m     44\u001b[0m db\u001b[38;5;241m.\u001b[39mdeliveries\u001b[38;5;241m.\u001b[39minsert_many(deliveries_dict)\n\u001b[1;32m---> 45\u001b[0m db\u001b[38;5;241m.\u001b[39mmatches\u001b[38;5;241m.\u001b[39minsert_many(matches_dict)\n\u001b[0;32m     47\u001b[0m \u001b[38;5;28mprint\u001b[39m(\u001b[38;5;124m\"\u001b[39m\u001b[38;5;124mDeliveries Collection Sample:\u001b[39m\u001b[38;5;124m\"\u001b[39m)\n\u001b[0;32m     48\u001b[0m \u001b[38;5;28mprint\u001b[39m(db\u001b[38;5;241m.\u001b[39mdeliveries\u001b[38;5;241m.\u001b[39mfind_one())\n",
      "File \u001b[1;32m~\\anaconda3\\Lib\\site-packages\\pymongo\\_csot.py:108\u001b[0m, in \u001b[0;36mapply.<locals>.csot_wrapper\u001b[1;34m(self, *args, **kwargs)\u001b[0m\n\u001b[0;32m    106\u001b[0m         \u001b[38;5;28;01mwith\u001b[39;00m _TimeoutContext(timeout):\n\u001b[0;32m    107\u001b[0m             \u001b[38;5;28;01mreturn\u001b[39;00m func(\u001b[38;5;28mself\u001b[39m, \u001b[38;5;241m*\u001b[39margs, \u001b[38;5;241m*\u001b[39m\u001b[38;5;241m*\u001b[39mkwargs)\n\u001b[1;32m--> 108\u001b[0m \u001b[38;5;28;01mreturn\u001b[39;00m func(\u001b[38;5;28mself\u001b[39m, \u001b[38;5;241m*\u001b[39margs, \u001b[38;5;241m*\u001b[39m\u001b[38;5;241m*\u001b[39mkwargs)\n",
      "File \u001b[1;32m~\\anaconda3\\Lib\\site-packages\\pymongo\\collection.py:742\u001b[0m, in \u001b[0;36mCollection.insert_many\u001b[1;34m(self, documents, ordered, bypass_document_validation, session, comment)\u001b[0m\n\u001b[0;32m    740\u001b[0m blk \u001b[38;5;241m=\u001b[39m _Bulk(\u001b[38;5;28mself\u001b[39m, ordered, bypass_document_validation, comment\u001b[38;5;241m=\u001b[39mcomment)\n\u001b[0;32m    741\u001b[0m blk\u001b[38;5;241m.\u001b[39mops \u001b[38;5;241m=\u001b[39m \u001b[38;5;28mlist\u001b[39m(gen())\n\u001b[1;32m--> 742\u001b[0m blk\u001b[38;5;241m.\u001b[39mexecute(write_concern, session, _Op\u001b[38;5;241m.\u001b[39mINSERT)\n\u001b[0;32m    743\u001b[0m \u001b[38;5;28;01mreturn\u001b[39;00m InsertManyResult(inserted_ids, write_concern\u001b[38;5;241m.\u001b[39macknowledged)\n",
      "File \u001b[1;32m~\\anaconda3\\Lib\\site-packages\\pymongo\\bulk.py:595\u001b[0m, in \u001b[0;36m_Bulk.execute\u001b[1;34m(self, write_concern, session, operation)\u001b[0m\n\u001b[0;32m    593\u001b[0m         \u001b[38;5;28;01mreturn\u001b[39;00m \u001b[38;5;28;01mNone\u001b[39;00m\n\u001b[0;32m    594\u001b[0m \u001b[38;5;28;01melse\u001b[39;00m:\n\u001b[1;32m--> 595\u001b[0m     \u001b[38;5;28;01mreturn\u001b[39;00m \u001b[38;5;28mself\u001b[39m\u001b[38;5;241m.\u001b[39mexecute_command(generator, write_concern, session, operation)\n",
      "File \u001b[1;32m~\\anaconda3\\Lib\\site-packages\\pymongo\\bulk.py:452\u001b[0m, in \u001b[0;36m_Bulk.execute_command\u001b[1;34m(self, generator, write_concern, session, operation)\u001b[0m\n\u001b[0;32m    441\u001b[0m     \u001b[38;5;28mself\u001b[39m\u001b[38;5;241m.\u001b[39m_execute_command(\n\u001b[0;32m    442\u001b[0m         generator,\n\u001b[0;32m    443\u001b[0m         write_concern,\n\u001b[1;32m   (...)\u001b[0m\n\u001b[0;32m    448\u001b[0m         full_result,\n\u001b[0;32m    449\u001b[0m     )\n\u001b[0;32m    451\u001b[0m client \u001b[38;5;241m=\u001b[39m \u001b[38;5;28mself\u001b[39m\u001b[38;5;241m.\u001b[39mcollection\u001b[38;5;241m.\u001b[39mdatabase\u001b[38;5;241m.\u001b[39mclient\n\u001b[1;32m--> 452\u001b[0m client\u001b[38;5;241m.\u001b[39m_retryable_write(\n\u001b[0;32m    453\u001b[0m     \u001b[38;5;28mself\u001b[39m\u001b[38;5;241m.\u001b[39mis_retryable,\n\u001b[0;32m    454\u001b[0m     retryable_bulk,\n\u001b[0;32m    455\u001b[0m     session,\n\u001b[0;32m    456\u001b[0m     operation,\n\u001b[0;32m    457\u001b[0m     bulk\u001b[38;5;241m=\u001b[39m\u001b[38;5;28mself\u001b[39m,\n\u001b[0;32m    458\u001b[0m     operation_id\u001b[38;5;241m=\u001b[39mop_id,\n\u001b[0;32m    459\u001b[0m )\n\u001b[0;32m    461\u001b[0m \u001b[38;5;28;01mif\u001b[39;00m full_result[\u001b[38;5;124m\"\u001b[39m\u001b[38;5;124mwriteErrors\u001b[39m\u001b[38;5;124m\"\u001b[39m] \u001b[38;5;129;01mor\u001b[39;00m full_result[\u001b[38;5;124m\"\u001b[39m\u001b[38;5;124mwriteConcernErrors\u001b[39m\u001b[38;5;124m\"\u001b[39m]:\n\u001b[0;32m    462\u001b[0m     _raise_bulk_write_error(full_result)\n",
      "File \u001b[1;32m~\\anaconda3\\Lib\\site-packages\\pymongo\\mongo_client.py:1575\u001b[0m, in \u001b[0;36mMongoClient._retryable_write\u001b[1;34m(self, retryable, func, session, operation, bulk, operation_id)\u001b[0m\n\u001b[0;32m   1561\u001b[0m \u001b[38;5;250m\u001b[39m\u001b[38;5;124;03m\"\"\"Execute an operation with consecutive retries if possible\u001b[39;00m\n\u001b[0;32m   1562\u001b[0m \n\u001b[0;32m   1563\u001b[0m \u001b[38;5;124;03mReturns func()'s return value on success. On error retries the same\u001b[39;00m\n\u001b[1;32m   (...)\u001b[0m\n\u001b[0;32m   1572\u001b[0m \u001b[38;5;124;03m:param bulk: bulk abstraction to execute operations in bulk, defaults to None\u001b[39;00m\n\u001b[0;32m   1573\u001b[0m \u001b[38;5;124;03m\"\"\"\u001b[39;00m\n\u001b[0;32m   1574\u001b[0m \u001b[38;5;28;01mwith\u001b[39;00m \u001b[38;5;28mself\u001b[39m\u001b[38;5;241m.\u001b[39m_tmp_session(session) \u001b[38;5;28;01mas\u001b[39;00m s:\n\u001b[1;32m-> 1575\u001b[0m     \u001b[38;5;28;01mreturn\u001b[39;00m \u001b[38;5;28mself\u001b[39m\u001b[38;5;241m.\u001b[39m_retry_with_session(retryable, func, s, bulk, operation, operation_id)\n",
      "File \u001b[1;32m~\\anaconda3\\Lib\\site-packages\\pymongo\\mongo_client.py:1461\u001b[0m, in \u001b[0;36mMongoClient._retry_with_session\u001b[1;34m(self, retryable, func, session, bulk, operation, operation_id)\u001b[0m\n\u001b[0;32m   1456\u001b[0m \u001b[38;5;66;03m# Ensure that the options supports retry_writes and there is a valid session not in\u001b[39;00m\n\u001b[0;32m   1457\u001b[0m \u001b[38;5;66;03m# transaction, otherwise, we will not support retry behavior for this txn.\u001b[39;00m\n\u001b[0;32m   1458\u001b[0m retryable \u001b[38;5;241m=\u001b[39m \u001b[38;5;28mbool\u001b[39m(\n\u001b[0;32m   1459\u001b[0m     retryable \u001b[38;5;129;01mand\u001b[39;00m \u001b[38;5;28mself\u001b[39m\u001b[38;5;241m.\u001b[39moptions\u001b[38;5;241m.\u001b[39mretry_writes \u001b[38;5;129;01mand\u001b[39;00m session \u001b[38;5;129;01mand\u001b[39;00m \u001b[38;5;129;01mnot\u001b[39;00m session\u001b[38;5;241m.\u001b[39min_transaction\n\u001b[0;32m   1460\u001b[0m )\n\u001b[1;32m-> 1461\u001b[0m \u001b[38;5;28;01mreturn\u001b[39;00m \u001b[38;5;28mself\u001b[39m\u001b[38;5;241m.\u001b[39m_retry_internal(\n\u001b[0;32m   1462\u001b[0m     func\u001b[38;5;241m=\u001b[39mfunc,\n\u001b[0;32m   1463\u001b[0m     session\u001b[38;5;241m=\u001b[39msession,\n\u001b[0;32m   1464\u001b[0m     bulk\u001b[38;5;241m=\u001b[39mbulk,\n\u001b[0;32m   1465\u001b[0m     operation\u001b[38;5;241m=\u001b[39moperation,\n\u001b[0;32m   1466\u001b[0m     retryable\u001b[38;5;241m=\u001b[39mretryable,\n\u001b[0;32m   1467\u001b[0m     operation_id\u001b[38;5;241m=\u001b[39moperation_id,\n\u001b[0;32m   1468\u001b[0m )\n",
      "File \u001b[1;32m~\\anaconda3\\Lib\\site-packages\\pymongo\\_csot.py:108\u001b[0m, in \u001b[0;36mapply.<locals>.csot_wrapper\u001b[1;34m(self, *args, **kwargs)\u001b[0m\n\u001b[0;32m    106\u001b[0m         \u001b[38;5;28;01mwith\u001b[39;00m _TimeoutContext(timeout):\n\u001b[0;32m    107\u001b[0m             \u001b[38;5;28;01mreturn\u001b[39;00m func(\u001b[38;5;28mself\u001b[39m, \u001b[38;5;241m*\u001b[39margs, \u001b[38;5;241m*\u001b[39m\u001b[38;5;241m*\u001b[39mkwargs)\n\u001b[1;32m--> 108\u001b[0m \u001b[38;5;28;01mreturn\u001b[39;00m func(\u001b[38;5;28mself\u001b[39m, \u001b[38;5;241m*\u001b[39margs, \u001b[38;5;241m*\u001b[39m\u001b[38;5;241m*\u001b[39mkwargs)\n",
      "File \u001b[1;32m~\\anaconda3\\Lib\\site-packages\\pymongo\\mongo_client.py:1507\u001b[0m, in \u001b[0;36mMongoClient._retry_internal\u001b[1;34m(self, func, session, bulk, operation, is_read, address, read_pref, retryable, operation_id)\u001b[0m\n\u001b[0;32m   1470\u001b[0m \u001b[38;5;129m@_csot\u001b[39m\u001b[38;5;241m.\u001b[39mapply\n\u001b[0;32m   1471\u001b[0m \u001b[38;5;28;01mdef\u001b[39;00m \u001b[38;5;21m_retry_internal\u001b[39m(\n\u001b[0;32m   1472\u001b[0m     \u001b[38;5;28mself\u001b[39m,\n\u001b[1;32m   (...)\u001b[0m\n\u001b[0;32m   1481\u001b[0m     operation_id: Optional[\u001b[38;5;28mint\u001b[39m] \u001b[38;5;241m=\u001b[39m \u001b[38;5;28;01mNone\u001b[39;00m,\n\u001b[0;32m   1482\u001b[0m ) \u001b[38;5;241m-\u001b[39m\u001b[38;5;241m>\u001b[39m T:\n\u001b[0;32m   1483\u001b[0m \u001b[38;5;250m    \u001b[39m\u001b[38;5;124;03m\"\"\"Internal retryable helper for all client transactions.\u001b[39;00m\n\u001b[0;32m   1484\u001b[0m \n\u001b[0;32m   1485\u001b[0m \u001b[38;5;124;03m    :param func: Callback function we want to retry\u001b[39;00m\n\u001b[1;32m   (...)\u001b[0m\n\u001b[0;32m   1494\u001b[0m \u001b[38;5;124;03m    :return: Output of the calling func()\u001b[39;00m\n\u001b[0;32m   1495\u001b[0m \u001b[38;5;124;03m    \"\"\"\u001b[39;00m\n\u001b[0;32m   1496\u001b[0m     \u001b[38;5;28;01mreturn\u001b[39;00m _ClientConnectionRetryable(\n\u001b[0;32m   1497\u001b[0m         mongo_client\u001b[38;5;241m=\u001b[39m\u001b[38;5;28mself\u001b[39m,\n\u001b[0;32m   1498\u001b[0m         func\u001b[38;5;241m=\u001b[39mfunc,\n\u001b[0;32m   1499\u001b[0m         bulk\u001b[38;5;241m=\u001b[39mbulk,\n\u001b[0;32m   1500\u001b[0m         operation\u001b[38;5;241m=\u001b[39moperation,\n\u001b[0;32m   1501\u001b[0m         is_read\u001b[38;5;241m=\u001b[39mis_read,\n\u001b[0;32m   1502\u001b[0m         session\u001b[38;5;241m=\u001b[39msession,\n\u001b[0;32m   1503\u001b[0m         read_pref\u001b[38;5;241m=\u001b[39mread_pref,\n\u001b[0;32m   1504\u001b[0m         address\u001b[38;5;241m=\u001b[39maddress,\n\u001b[0;32m   1505\u001b[0m         retryable\u001b[38;5;241m=\u001b[39mretryable,\n\u001b[0;32m   1506\u001b[0m         operation_id\u001b[38;5;241m=\u001b[39moperation_id,\n\u001b[1;32m-> 1507\u001b[0m     )\u001b[38;5;241m.\u001b[39mrun()\n",
      "File \u001b[1;32m~\\anaconda3\\Lib\\site-packages\\pymongo\\mongo_client.py:2353\u001b[0m, in \u001b[0;36m_ClientConnectionRetryable.run\u001b[1;34m(self)\u001b[0m\n\u001b[0;32m   2351\u001b[0m \u001b[38;5;28mself\u001b[39m\u001b[38;5;241m.\u001b[39m_check_last_error(check_csot\u001b[38;5;241m=\u001b[39m\u001b[38;5;28;01mTrue\u001b[39;00m)\n\u001b[0;32m   2352\u001b[0m \u001b[38;5;28;01mtry\u001b[39;00m:\n\u001b[1;32m-> 2353\u001b[0m     \u001b[38;5;28;01mreturn\u001b[39;00m \u001b[38;5;28mself\u001b[39m\u001b[38;5;241m.\u001b[39m_read() \u001b[38;5;28;01mif\u001b[39;00m \u001b[38;5;28mself\u001b[39m\u001b[38;5;241m.\u001b[39m_is_read \u001b[38;5;28;01melse\u001b[39;00m \u001b[38;5;28mself\u001b[39m\u001b[38;5;241m.\u001b[39m_write()\n\u001b[0;32m   2354\u001b[0m \u001b[38;5;28;01mexcept\u001b[39;00m ServerSelectionTimeoutError:\n\u001b[0;32m   2355\u001b[0m     \u001b[38;5;66;03m# The application may think the write was never attempted\u001b[39;00m\n\u001b[0;32m   2356\u001b[0m     \u001b[38;5;66;03m# if we raise ServerSelectionTimeoutError on the retry\u001b[39;00m\n\u001b[0;32m   2357\u001b[0m     \u001b[38;5;66;03m# attempt. Raise the original exception instead.\u001b[39;00m\n\u001b[0;32m   2358\u001b[0m     \u001b[38;5;28mself\u001b[39m\u001b[38;5;241m.\u001b[39m_check_last_error()\n",
      "File \u001b[1;32m~\\anaconda3\\Lib\\site-packages\\pymongo\\mongo_client.py:2470\u001b[0m, in \u001b[0;36m_ClientConnectionRetryable._write\u001b[1;34m(self)\u001b[0m\n\u001b[0;32m   2468\u001b[0m             \u001b[38;5;28mself\u001b[39m\u001b[38;5;241m.\u001b[39m_check_last_error()\n\u001b[0;32m   2469\u001b[0m             \u001b[38;5;28mself\u001b[39m\u001b[38;5;241m.\u001b[39m_retryable \u001b[38;5;241m=\u001b[39m \u001b[38;5;28;01mFalse\u001b[39;00m\n\u001b[1;32m-> 2470\u001b[0m         \u001b[38;5;28;01mreturn\u001b[39;00m \u001b[38;5;28mself\u001b[39m\u001b[38;5;241m.\u001b[39m_func(\u001b[38;5;28mself\u001b[39m\u001b[38;5;241m.\u001b[39m_session, conn, \u001b[38;5;28mself\u001b[39m\u001b[38;5;241m.\u001b[39m_retryable)  \u001b[38;5;66;03m# type: ignore\u001b[39;00m\n\u001b[0;32m   2471\u001b[0m \u001b[38;5;28;01mexcept\u001b[39;00m PyMongoError \u001b[38;5;28;01mas\u001b[39;00m exc:\n\u001b[0;32m   2472\u001b[0m     \u001b[38;5;28;01mif\u001b[39;00m \u001b[38;5;129;01mnot\u001b[39;00m \u001b[38;5;28mself\u001b[39m\u001b[38;5;241m.\u001b[39m_retryable:\n",
      "File \u001b[1;32m~\\anaconda3\\Lib\\site-packages\\pymongo\\bulk.py:441\u001b[0m, in \u001b[0;36m_Bulk.execute_command.<locals>.retryable_bulk\u001b[1;34m(session, conn, retryable)\u001b[0m\n\u001b[0;32m    438\u001b[0m \u001b[38;5;28;01mdef\u001b[39;00m \u001b[38;5;21mretryable_bulk\u001b[39m(\n\u001b[0;32m    439\u001b[0m     session: Optional[ClientSession], conn: Connection, retryable: \u001b[38;5;28mbool\u001b[39m\n\u001b[0;32m    440\u001b[0m ) \u001b[38;5;241m-\u001b[39m\u001b[38;5;241m>\u001b[39m \u001b[38;5;28;01mNone\u001b[39;00m:\n\u001b[1;32m--> 441\u001b[0m     \u001b[38;5;28mself\u001b[39m\u001b[38;5;241m.\u001b[39m_execute_command(\n\u001b[0;32m    442\u001b[0m         generator,\n\u001b[0;32m    443\u001b[0m         write_concern,\n\u001b[0;32m    444\u001b[0m         session,\n\u001b[0;32m    445\u001b[0m         conn,\n\u001b[0;32m    446\u001b[0m         op_id,\n\u001b[0;32m    447\u001b[0m         retryable,\n\u001b[0;32m    448\u001b[0m         full_result,\n\u001b[0;32m    449\u001b[0m     )\n",
      "File \u001b[1;32m~\\anaconda3\\Lib\\site-packages\\pymongo\\bulk.py:386\u001b[0m, in \u001b[0;36m_Bulk._execute_command\u001b[1;34m(self, generator, write_concern, session, conn, op_id, retryable, full_result, final_write_concern)\u001b[0m\n\u001b[0;32m    384\u001b[0m \u001b[38;5;66;03m# Run as many ops as possible in one command.\u001b[39;00m\n\u001b[0;32m    385\u001b[0m \u001b[38;5;28;01mif\u001b[39;00m write_concern\u001b[38;5;241m.\u001b[39macknowledged:\n\u001b[1;32m--> 386\u001b[0m     result, to_send \u001b[38;5;241m=\u001b[39m bwc\u001b[38;5;241m.\u001b[39mexecute(cmd, ops, client)\n\u001b[0;32m    388\u001b[0m     \u001b[38;5;66;03m# Retryable writeConcernErrors halt the execution of this run.\u001b[39;00m\n\u001b[0;32m    389\u001b[0m     wce \u001b[38;5;241m=\u001b[39m result\u001b[38;5;241m.\u001b[39mget(\u001b[38;5;124m\"\u001b[39m\u001b[38;5;124mwriteConcernError\u001b[39m\u001b[38;5;124m\"\u001b[39m, {})\n",
      "File \u001b[1;32m~\\anaconda3\\Lib\\site-packages\\pymongo\\message.py:959\u001b[0m, in \u001b[0;36m_BulkWriteContext.execute\u001b[1;34m(self, cmd, docs, client)\u001b[0m\n\u001b[0;32m    956\u001b[0m \u001b[38;5;28;01mdef\u001b[39;00m \u001b[38;5;21mexecute\u001b[39m(\n\u001b[0;32m    957\u001b[0m     \u001b[38;5;28mself\u001b[39m, cmd: MutableMapping[\u001b[38;5;28mstr\u001b[39m, Any], docs: \u001b[38;5;28mlist\u001b[39m[Mapping[\u001b[38;5;28mstr\u001b[39m, Any]], client: MongoClient\n\u001b[0;32m    958\u001b[0m ) \u001b[38;5;241m-\u001b[39m\u001b[38;5;241m>\u001b[39m \u001b[38;5;28mtuple\u001b[39m[Mapping[\u001b[38;5;28mstr\u001b[39m, Any], \u001b[38;5;28mlist\u001b[39m[Mapping[\u001b[38;5;28mstr\u001b[39m, Any]]]:\n\u001b[1;32m--> 959\u001b[0m     request_id, msg, to_send \u001b[38;5;241m=\u001b[39m \u001b[38;5;28mself\u001b[39m\u001b[38;5;241m.\u001b[39m__batch_command(cmd, docs)\n\u001b[0;32m    960\u001b[0m     result \u001b[38;5;241m=\u001b[39m \u001b[38;5;28mself\u001b[39m\u001b[38;5;241m.\u001b[39mwrite_command(cmd, request_id, msg, to_send, client)\n\u001b[0;32m    961\u001b[0m     client\u001b[38;5;241m.\u001b[39m_process_response(result, \u001b[38;5;28mself\u001b[39m\u001b[38;5;241m.\u001b[39msession)\n",
      "File \u001b[1;32m~\\anaconda3\\Lib\\site-packages\\pymongo\\message.py:949\u001b[0m, in \u001b[0;36m_BulkWriteContext.__batch_command\u001b[1;34m(self, cmd, docs)\u001b[0m\n\u001b[0;32m    945\u001b[0m \u001b[38;5;28;01mdef\u001b[39;00m \u001b[38;5;21m__batch_command\u001b[39m(\n\u001b[0;32m    946\u001b[0m     \u001b[38;5;28mself\u001b[39m, cmd: MutableMapping[\u001b[38;5;28mstr\u001b[39m, Any], docs: \u001b[38;5;28mlist\u001b[39m[Mapping[\u001b[38;5;28mstr\u001b[39m, Any]]\n\u001b[0;32m    947\u001b[0m ) \u001b[38;5;241m-\u001b[39m\u001b[38;5;241m>\u001b[39m \u001b[38;5;28mtuple\u001b[39m[\u001b[38;5;28mint\u001b[39m, \u001b[38;5;28mbytes\u001b[39m, \u001b[38;5;28mlist\u001b[39m[Mapping[\u001b[38;5;28mstr\u001b[39m, Any]]]:\n\u001b[0;32m    948\u001b[0m     namespace \u001b[38;5;241m=\u001b[39m \u001b[38;5;28mself\u001b[39m\u001b[38;5;241m.\u001b[39mdb_name \u001b[38;5;241m+\u001b[39m \u001b[38;5;124m\"\u001b[39m\u001b[38;5;124m.$cmd\u001b[39m\u001b[38;5;124m\"\u001b[39m\n\u001b[1;32m--> 949\u001b[0m     request_id, msg, to_send \u001b[38;5;241m=\u001b[39m _do_batched_op_msg(\n\u001b[0;32m    950\u001b[0m         namespace, \u001b[38;5;28mself\u001b[39m\u001b[38;5;241m.\u001b[39mop_type, cmd, docs, \u001b[38;5;28mself\u001b[39m\u001b[38;5;241m.\u001b[39mcodec, \u001b[38;5;28mself\u001b[39m\n\u001b[0;32m    951\u001b[0m     )\n\u001b[0;32m    952\u001b[0m     \u001b[38;5;28;01mif\u001b[39;00m \u001b[38;5;129;01mnot\u001b[39;00m to_send:\n\u001b[0;32m    953\u001b[0m         \u001b[38;5;28;01mraise\u001b[39;00m InvalidOperation(\u001b[38;5;124m\"\u001b[39m\u001b[38;5;124mcannot do an empty bulk write\u001b[39m\u001b[38;5;124m\"\u001b[39m)\n",
      "File \u001b[1;32m~\\anaconda3\\Lib\\site-packages\\pymongo\\message.py:1451\u001b[0m, in \u001b[0;36m_do_batched_op_msg\u001b[1;34m(namespace, operation, command, docs, opts, ctx)\u001b[0m\n\u001b[0;32m   1449\u001b[0m \u001b[38;5;28;01mif\u001b[39;00m ctx\u001b[38;5;241m.\u001b[39mconn\u001b[38;5;241m.\u001b[39mcompression_context:\n\u001b[0;32m   1450\u001b[0m     \u001b[38;5;28;01mreturn\u001b[39;00m _batched_op_msg_compressed(operation, command, docs, ack, opts, ctx)\n\u001b[1;32m-> 1451\u001b[0m \u001b[38;5;28;01mreturn\u001b[39;00m _batched_op_msg(operation, command, docs, ack, opts, ctx)\n",
      "\u001b[1;31mInvalidDocument\u001b[0m: cannot encode object: datetime.date(2017, 4, 5), of type: <class 'datetime.date'>"
     ]
    }
   ],
   "source": [
    "from pyspark.sql import SparkSession\n",
    "from pyspark.sql.functions import col, lit, when\n",
    "from pymongo import MongoClient\n",
    "\n",
    "# Initialize Spark session\n",
    "spark = SparkSession.builder \\\n",
    "    .appName(\"MongoDBBridge\") \\\n",
    "    .getOrCreate()\n",
    "\n",
    "# Read CSV files into Spark DataFrames\n",
    "deliveries_df = spark.read.csv('deliveries.csv', header=True, inferSchema=True)\n",
    "matches_df = spark.read.csv('matches.csv', header=True, inferSchema=True)\n",
    "\n",
    "# Transform DataFrames: replace nulls with 'Unknown' and drop unnecessary columns\n",
    "matches_df = matches_df.withColumn('umpire1', when(col('umpire1').isNull(), lit(\"Unknown\")).otherwise(col('umpire1')))\n",
    "matches_df = matches_df.withColumn('umpire2', when(col('umpire2').isNull(), lit(\"Unknown\")).otherwise(col('umpire2')))\n",
    "matches_df = matches_df.withColumn('winner', when(col('winner').isNull(), lit(\"Unknown\")).otherwise(col('winner')))\n",
    "matches_df = matches_df.withColumn('player_of_match', when(col('player_of_match').isNull(), lit(\"Unknown\")).otherwise(col('player_of_match')))\n",
    "matches_df = matches_df.drop('umpire3')\n",
    "\n",
    "deliveries_df = deliveries_df.drop('player_dismissal', 'dismissal_kind', 'fielder')\n",
    "\n",
    "\n",
    "def convert_date_to_string(df):\n",
    "    for column in df.columns:\n",
    "        if \"date\" in column.lower():\n",
    "            df = df.withColumn(column, col(column).cast(\"string\"))\n",
    "    return df\n",
    "\n",
    "matches_df = convert_date_to_string(matches_df)\n",
    "deliveries_df = convert_date_to_string(deliveries_df)\n",
    "\n",
    "deliveries_pd = deliveries_df.toPandas()\n",
    "matches_pd = matches_df.toPandas()\n",
    "\n",
    "# Convert Pandas DataFrames to list of dictionaries\n",
    "deliveries_dict = deliveries_pd.to_dict(\"records\")\n",
    "matches_dict = matches_pd.to_dict(\"records\")\n",
    "\n",
    "# Connect to MongoDB\n",
    "client = MongoClient(\"mongodb://localhost:27017/\")\n",
    "db = client.cricketDatabase\n",
    "\n",
    "# Insert data into MongoDB collections\n",
    "db.deliveries.insert_many(deliveries_dict)\n",
    "db.matches.insert_many(matches_dict)\n",
    "\n",
    "print(\"Deliveries Collection Sample:\")\n",
    "print(db.deliveries.find_one())\n",
    "\n",
    "print(\"\\nMatches Collection Sample:\")\n",
    "print(db.matches.find_one())\n",
    "\n",
    "# Stop Spark session\n",
    "spark.stop()"
   ]
  },
  {
   "cell_type": "code",
   "execution_count": null,
   "id": "5ec4a366",
   "metadata": {},
   "outputs": [],
   "source": []
  }
 ],
 "metadata": {
  "kernelspec": {
   "display_name": "Python 3 (ipykernel)",
   "language": "python",
   "name": "python3"
  },
  "language_info": {
   "codemirror_mode": {
    "name": "ipython",
    "version": 3
   },
   "file_extension": ".py",
   "mimetype": "text/x-python",
   "name": "python",
   "nbconvert_exporter": "python",
   "pygments_lexer": "ipython3",
   "version": "3.11.7"
  }
 },
 "nbformat": 4,
 "nbformat_minor": 5
}

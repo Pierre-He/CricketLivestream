{
 "cells": [
  {
   "cell_type": "code",
   "execution_count": 1,
   "id": "a6a1ccc5",
   "metadata": {
    "tags": []
   },
   "outputs": [
    {
     "name": "stdout",
     "output_type": "stream",
     "text": [
      "Requirement already satisfied: pandas in c:\\users\\hepie\\anaconda3\\lib\\site-packages (2.1.4)\n",
      "Requirement already satisfied: numpy<2,>=1.23.2 in c:\\users\\hepie\\anaconda3\\lib\\site-packages (from pandas) (1.26.4)\n",
      "Requirement already satisfied: python-dateutil>=2.8.2 in c:\\users\\hepie\\anaconda3\\lib\\site-packages (from pandas) (2.8.2)\n",
      "Requirement already satisfied: pytz>=2020.1 in c:\\users\\hepie\\anaconda3\\lib\\site-packages (from pandas) (2023.3.post1)\n",
      "Requirement already satisfied: tzdata>=2022.1 in c:\\users\\hepie\\anaconda3\\lib\\site-packages (from pandas) (2023.3)\n",
      "Requirement already satisfied: six>=1.5 in c:\\users\\hepie\\anaconda3\\lib\\site-packages (from python-dateutil>=2.8.2->pandas) (1.16.0)\n",
      "Note: you may need to restart the kernel to use updated packages.\n"
     ]
    }
   ],
   "source": [
    "pip install pandas\n"
   ]
  },
  {
   "cell_type": "code",
   "execution_count": 2,
   "id": "505c0b6e",
   "metadata": {},
   "outputs": [
    {
     "name": "stdout",
     "output_type": "stream",
     "text": [
      "Requirement already satisfied: pyspark in c:\\users\\hepie\\anaconda3\\lib\\site-packages (3.5.1)Note: you may need to restart the kernel to use updated packages.\n",
      "\n",
      "Requirement already satisfied: py4j==0.10.9.7 in c:\\users\\hepie\\anaconda3\\lib\\site-packages (from pyspark) (0.10.9.7)\n"
     ]
    }
   ],
   "source": [
    "pip install pyspark"
   ]
  },
  {
   "cell_type": "code",
   "execution_count": 3,
   "id": "208fe08f",
   "metadata": {},
   "outputs": [
    {
     "name": "stdout",
     "output_type": "stream",
     "text": [
      "Note: you may need to restart the kernel to use updated packages.\n"
     ]
    },
    {
     "name": "stderr",
     "output_type": "stream",
     "text": [
      "ERROR: Could not find a version that satisfies the requirement spark-mongodb-connector (from versions: none)\n",
      "ERROR: No matching distribution found for spark-mongodb-connector\n"
     ]
    }
   ],
   "source": []
  },
  {
   "cell_type": "markdown",
   "id": "2be263ec",
   "metadata": {
    "vscode": {
     "languageId": "plaintext"
    }
   },
   "source": [
    "Here we install the dependancies that are pandas and sqlite3.   \n",
    "\n",
    "Then we load the two csv files using the pandas function 'read_csv' and store them into two variables \n",
    "\"deliveries\" and \"matches\"."
   ]
  },
  {
   "cell_type": "code",
   "execution_count": 4,
   "id": "20791daa",
   "metadata": {
    "tags": []
   },
   "outputs": [],
   "source": [
    "import pandas as pd\n",
    "import sqlite3\n",
    "\n",
    "deliveries = pd.read_csv('deliveries.csv')\n",
    "matches = pd.read_csv('matches.csv')"
   ]
  },
  {
   "cell_type": "markdown",
   "id": "477aff5b",
   "metadata": {},
   "source": [
    "Here we are trying to connect to the SQLite database \"cricket_data\", and we store it in the variable \"connect_db\". In order to do that, we first use sqlite3's 'connect' function, that will check whether a file named \"cricket_data.db\" exists, if it's the case then it will connect to it; else it will create a new database file named like that. \n",
    "\n",
    "Then we create a cursor object in order to execute SQL commands to the database."
   ]
  },
  {
   "cell_type": "code",
   "execution_count": 5,
   "id": "339c31fb",
   "metadata": {
    "tags": []
   },
   "outputs": [],
   "source": [
    "connect_db = sqlite3.connect('cricket_data.db')\n",
    "cursor = connect_db.cursor()"
   ]
  },
  {
   "cell_type": "code",
   "execution_count": 6,
   "id": "8e0046b7",
   "metadata": {
    "tags": []
   },
   "outputs": [
    {
     "data": {
      "text/plain": [
       "636"
      ]
     },
     "execution_count": 6,
     "metadata": {},
     "output_type": "execute_result"
    }
   ],
   "source": [
    "deliveries.to_sql('deliveries', connect_db, if_exists='replace', index=False)\n",
    "matches.to_sql('matches',connect_db,if_exists='replace',index=False)"
   ]
  },
  {
   "cell_type": "code",
   "execution_count": 7,
   "id": "fdc6f471",
   "metadata": {},
   "outputs": [],
   "source": [
    "connect_db.commit()\n",
    "connect_db.close()"
   ]
  },
  {
   "cell_type": "code",
   "execution_count": 8,
   "id": "db7ecaf5",
   "metadata": {},
   "outputs": [
    {
     "name": "stdout",
     "output_type": "stream",
     "text": [
      "Résultats pour 'deliveries.csv':\n",
      "Colonne 'match_id': 0 NULL\n",
      "Colonne 'inning': 0 NULL\n",
      "Colonne 'batting_team': 0 NULL\n",
      "Colonne 'bowling_team': 0 NULL\n",
      "Colonne 'over': 0 NULL\n",
      "Colonne 'ball': 0 NULL\n",
      "Colonne 'batsman': 0 NULL\n",
      "Colonne 'non_striker': 0 NULL\n",
      "Colonne 'bowler': 0 NULL\n",
      "Colonne 'is_super_over': 0 NULL\n",
      "Colonne 'wide_runs': 0 NULL\n",
      "Colonne 'bye_runs': 0 NULL\n",
      "Colonne 'legbye_runs': 0 NULL\n",
      "Colonne 'noball_runs': 0 NULL\n",
      "Colonne 'penalty_runs': 0 NULL\n",
      "Colonne 'batsman_runs': 0 NULL\n",
      "Colonne 'extra_runs': 0 NULL\n",
      "Colonne 'total_runs': 0 NULL\n",
      "Colonne 'player_dismissed': 143022 NULL\n",
      "Colonne 'dismissal_kind': 143022 NULL\n",
      "Colonne 'fielder': 145091 NULL\n",
      "\n",
      "Résultats pour 'matches.csv':\n",
      "Colonne 'id': 0 NULL\n",
      "Colonne 'season': 0 NULL\n",
      "Colonne 'city': 7 NULL\n",
      "Colonne 'date': 0 NULL\n",
      "Colonne 'team1': 0 NULL\n",
      "Colonne 'team2': 0 NULL\n",
      "Colonne 'toss_winner': 0 NULL\n",
      "Colonne 'toss_decision': 0 NULL\n",
      "Colonne 'result': 0 NULL\n",
      "Colonne 'dl_applied': 0 NULL\n",
      "Colonne 'winner': 3 NULL\n",
      "Colonne 'win_by_runs': 0 NULL\n",
      "Colonne 'win_by_wickets': 0 NULL\n",
      "Colonne 'player_of_match': 3 NULL\n",
      "Colonne 'venue': 0 NULL\n",
      "Colonne 'umpire1': 1 NULL\n",
      "Colonne 'umpire2': 1 NULL\n",
      "Colonne 'umpire3': 636 NULL\n"
     ]
    }
   ],
   "source": [
    "from pyspark.sql import SparkSession\n",
    "from pyspark.sql.functions import col, lit, when\n",
    "\n",
    "# Créer une session Spark\n",
    "spark = SparkSession.builder \\\n",
    "    .appName(\"nullChecker\") \\\n",
    "    .getOrCreate()\n",
    "\n",
    "# Charger les fichiers CSV dans des DataFrames Spark\n",
    "deliveries_df = spark.read.csv('deliveries.csv', header=True, inferSchema=True)\n",
    "matches_df = spark.read.csv('matches.csv', header=True, inferSchema=True)\n",
    "\n",
    "\n",
    "# Fonction pour compter les valeurs NULL dans chaque colonne d'un DataFrame\n",
    "def count_nulls(df):\n",
    "    null_counts = {}\n",
    "    for column in df.columns:\n",
    "        # Compter les valeurs NULL\n",
    "        null_count = df.filter(col(column).isNull()).count()\n",
    "        \n",
    "        # Stocker les résultats\n",
    "        null_counts[column] = null_count\n",
    "    return null_counts\n",
    "\n",
    "# Compter les valeurs NULL pour le DataFrame deliveries\n",
    "deliveries_null_counts = count_nulls(deliveries_df)\n",
    "\n",
    "# Compter les valeurs NULL pour le DataFrame matches\n",
    "matches_null_counts = count_nulls(matches_df)\n",
    "\n",
    "# Afficher les résultats pour le fichier deliveries.csv\n",
    "print(\"Résultats pour 'deliveries.csv':\")\n",
    "for column, count in deliveries_null_counts.items():\n",
    "    print(f\"Colonne '{column}': {count} NULL\")\n",
    "\n",
    "# Afficher les résultats pour le fichier matches.csv\n",
    "print(\"\\nRésultats pour 'matches.csv':\")\n",
    "for column, count in matches_null_counts.items():\n",
    "    print(f\"Colonne '{column}': {count} NULL\")\n",
    "\n",
    "# Fermer la session Spark\n",
    "spark.stop()"
   ]
  },
  {
   "cell_type": "code",
   "execution_count": 45,
   "id": "ef1db8e3",
   "metadata": {},
   "outputs": [
    {
     "name": "stdout",
     "output_type": "stream",
     "text": [
      "Schema de deliveries_df après suppression de 'player_dismissal':\n",
      "root\n",
      " |-- match_id: integer (nullable = true)\n",
      " |-- inning: integer (nullable = true)\n",
      " |-- batting_team: string (nullable = true)\n",
      " |-- bowling_team: string (nullable = true)\n",
      " |-- over: integer (nullable = true)\n",
      " |-- ball: integer (nullable = true)\n",
      " |-- batsman: string (nullable = true)\n",
      " |-- non_striker: string (nullable = true)\n",
      " |-- bowler: string (nullable = true)\n",
      " |-- is_super_over: integer (nullable = true)\n",
      " |-- wide_runs: integer (nullable = true)\n",
      " |-- bye_runs: integer (nullable = true)\n",
      " |-- legbye_runs: integer (nullable = true)\n",
      " |-- noball_runs: integer (nullable = true)\n",
      " |-- penalty_runs: integer (nullable = true)\n",
      " |-- batsman_runs: integer (nullable = true)\n",
      " |-- extra_runs: integer (nullable = true)\n",
      " |-- total_runs: integer (nullable = true)\n",
      " |-- player_dismissed: string (nullable = true)\n",
      "\n",
      "\n",
      "Schema de matches_df après suppression de 'umpire3':\n",
      "root\n",
      " |-- id: integer (nullable = true)\n",
      " |-- season: integer (nullable = true)\n",
      " |-- city: string (nullable = true)\n",
      " |-- date: date (nullable = true)\n",
      " |-- team1: string (nullable = true)\n",
      " |-- team2: string (nullable = true)\n",
      " |-- toss_winner: string (nullable = true)\n",
      " |-- toss_decision: string (nullable = true)\n",
      " |-- result: string (nullable = true)\n",
      " |-- dl_applied: integer (nullable = true)\n",
      " |-- winner: string (nullable = true)\n",
      " |-- win_by_runs: integer (nullable = true)\n",
      " |-- win_by_wickets: integer (nullable = true)\n",
      " |-- player_of_match: string (nullable = true)\n",
      " |-- venue: string (nullable = true)\n",
      " |-- umpire1: string (nullable = true)\n",
      " |-- umpire2: string (nullable = true)\n",
      "\n"
     ]
    }
   ],
   "source": [
    "# Dropping empty umpire3 and adding Unknown to empty others\n",
    "spark = SparkSession.builder \\\n",
    "    .appName(\"unknownReplacerDeleter\") \\\n",
    "    .getOrCreate()\n",
    "\n",
    "#Delete or change to unknown\n",
    "matches_df = matches_df.withColumn('umpire1', when(col('umpire1').isNull(), lit(\"Unknown\")).otherwise(col('umpire1')))\n",
    "matches_df = matches_df.withColumn('umpire2', when(col('umpire2').isNull(), lit(\"Unknown\")).otherwise(col('umpire2')))\n",
    "matches_df = matches_df.withColumn('winner', when(col('winner').isNull(), lit(\"Unknown\")).otherwise(col('winner')))\n",
    "matches_df = matches_df.withColumn('player_of_match', when(col('player_of_match').isNull(), lit(\"Unknown\")).otherwise(col('player_of_match')))\n",
    "matches_df = matches_df.drop('umpire3')\n",
    "\n",
    "deliveries_df = deliveries_df.drop('player_dismissal').drop('dismissal_kind').drop('fielder')\n",
    "\n",
    "# Afficher le schéma mis à jour des DataFrames pour vérification\n",
    "print(\"Schema de deliveries_df après suppression de 'player_dismissal':\")\n",
    "deliveries_df.printSchema()\n",
    "print(\"\\nSchema de matches_df après suppression de 'umpire3':\")\n",
    "matches_df.printSchema()\n",
    "\n",
    "#DOES NOT UPDATE THE DB !!\n",
    "\n",
    "# Fermer la session Spark\n",
    "spark.stop()\n"
   ]
  },
  {
   "cell_type": "code",
   "execution_count": 44,
   "id": "d6acf172",
   "metadata": {},
   "outputs": [
    {
     "ename": "Py4JJavaError",
     "evalue": "An error occurred while calling o723.save.\n: org.apache.spark.SparkClassNotFoundException: [DATA_SOURCE_NOT_FOUND] Failed to find the data source: mongodb. Please find packages at `https://spark.apache.org/third-party-projects.html`.\r\n\tat org.apache.spark.sql.errors.QueryExecutionErrors$.dataSourceNotFoundError(QueryExecutionErrors.scala:724)\r\n\tat org.apache.spark.sql.execution.datasources.DataSource$.lookupDataSource(DataSource.scala:647)\r\n\tat org.apache.spark.sql.execution.datasources.DataSource$.lookupDataSourceV2(DataSource.scala:697)\r\n\tat org.apache.spark.sql.DataFrameWriter.lookupV2Provider(DataFrameWriter.scala:863)\r\n\tat org.apache.spark.sql.DataFrameWriter.saveInternal(DataFrameWriter.scala:257)\r\n\tat org.apache.spark.sql.DataFrameWriter.save(DataFrameWriter.scala:248)\r\n\tat jdk.internal.reflect.GeneratedMethodAccessor89.invoke(Unknown Source)\r\n\tat java.base/jdk.internal.reflect.DelegatingMethodAccessorImpl.invoke(DelegatingMethodAccessorImpl.java:43)\r\n\tat java.base/java.lang.reflect.Method.invoke(Method.java:568)\r\n\tat py4j.reflection.MethodInvoker.invoke(MethodInvoker.java:244)\r\n\tat py4j.reflection.ReflectionEngine.invoke(ReflectionEngine.java:374)\r\n\tat py4j.Gateway.invoke(Gateway.java:282)\r\n\tat py4j.commands.AbstractCommand.invokeMethod(AbstractCommand.java:132)\r\n\tat py4j.commands.CallCommand.execute(CallCommand.java:79)\r\n\tat py4j.ClientServerConnection.waitForCommands(ClientServerConnection.java:182)\r\n\tat py4j.ClientServerConnection.run(ClientServerConnection.java:106)\r\n\tat java.base/java.lang.Thread.run(Thread.java:842)\r\nCaused by: java.lang.ClassNotFoundException: mongodb.DefaultSource\r\n\tat java.base/java.net.URLClassLoader.findClass(URLClassLoader.java:445)\r\n\tat java.base/java.lang.ClassLoader.loadClass(ClassLoader.java:587)\r\n\tat java.base/java.lang.ClassLoader.loadClass(ClassLoader.java:520)\r\n\tat org.apache.spark.sql.execution.datasources.DataSource$.$anonfun$lookupDataSource$5(DataSource.scala:633)\r\n\tat scala.util.Try$.apply(Try.scala:213)\r\n\tat org.apache.spark.sql.execution.datasources.DataSource$.$anonfun$lookupDataSource$4(DataSource.scala:633)\r\n\tat scala.util.Failure.orElse(Try.scala:224)\r\n\tat org.apache.spark.sql.execution.datasources.DataSource$.lookupDataSource(DataSource.scala:633)\r\n\t... 15 more\r\n",
     "output_type": "error",
     "traceback": [
      "\u001b[1;31m---------------------------------------------------------------------------\u001b[0m",
      "\u001b[1;31mPy4JJavaError\u001b[0m                             Traceback (most recent call last)",
      "Cell \u001b[1;32mIn[44], line 13\u001b[0m\n\u001b[0;32m      4\u001b[0m \u001b[38;5;28;01mfrom\u001b[39;00m \u001b[38;5;21;01mpyspark\u001b[39;00m\u001b[38;5;21;01m.\u001b[39;00m\u001b[38;5;21;01msql\u001b[39;00m \u001b[38;5;28;01mimport\u001b[39;00m SQLContext\n\u001b[0;32m      7\u001b[0m spark \u001b[38;5;241m=\u001b[39m SparkSession\u001b[38;5;241m.\u001b[39mbuilder \\\n\u001b[0;32m      8\u001b[0m     \u001b[38;5;241m.\u001b[39mappName(\u001b[38;5;124m\"\u001b[39m\u001b[38;5;124mmongoDBBridge\u001b[39m\u001b[38;5;124m\"\u001b[39m) \\\n\u001b[0;32m      9\u001b[0m     \u001b[38;5;241m.\u001b[39mconfig(\u001b[38;5;124m\"\u001b[39m\u001b[38;5;124mspark.jars.packages\u001b[39m\u001b[38;5;124m\"\u001b[39m, \u001b[38;5;124m\"\u001b[39m\u001b[38;5;124morg.mongodb.spark:mongo-spark-connector_2.12:10.0.0\u001b[39m\u001b[38;5;124m\"\u001b[39m) \\\n\u001b[0;32m     10\u001b[0m     \u001b[38;5;241m.\u001b[39mconfig(\u001b[38;5;124m\"\u001b[39m\u001b[38;5;124mspark.mongodb.read.connection.uri\u001b[39m\u001b[38;5;124m\"\u001b[39m,\u001b[38;5;124m\"\u001b[39m\u001b[38;5;124mmongodb://localhost:27017/cricketDatabase\u001b[39m\u001b[38;5;124m\"\u001b[39m) \\\n\u001b[0;32m     11\u001b[0m     \u001b[38;5;241m.\u001b[39mgetOrCreate()\n\u001b[1;32m---> 13\u001b[0m matches_df\u001b[38;5;241m.\u001b[39mwrite\u001b[38;5;241m.\u001b[39mformat(\u001b[38;5;124m\"\u001b[39m\u001b[38;5;124mmongodb\u001b[39m\u001b[38;5;124m\"\u001b[39m)\u001b[38;5;241m.\u001b[39moption(\u001b[38;5;124m\"\u001b[39m\u001b[38;5;124mreplaceDocument\u001b[39m\u001b[38;5;124m\"\u001b[39m, \u001b[38;5;124m\"\u001b[39m\u001b[38;5;124mtrue\u001b[39m\u001b[38;5;124m\"\u001b[39m)\u001b[38;5;241m.\u001b[39moption(\u001b[38;5;124m\"\u001b[39m\u001b[38;5;124mdatabase\u001b[39m\u001b[38;5;124m\"\u001b[39m, \u001b[38;5;124m\"\u001b[39m\u001b[38;5;124mcricketDatabase\u001b[39m\u001b[38;5;124m\"\u001b[39m)\u001b[38;5;241m.\u001b[39moption(\u001b[38;5;124m\"\u001b[39m\u001b[38;5;124mcollection\u001b[39m\u001b[38;5;124m\"\u001b[39m, \u001b[38;5;124m\"\u001b[39m\u001b[38;5;124mmatches\u001b[39m\u001b[38;5;124m\"\u001b[39m)\u001b[38;5;241m.\u001b[39msave()   \n\u001b[0;32m     14\u001b[0m deliveries_df\u001b[38;5;241m.\u001b[39mwrite\u001b[38;5;241m.\u001b[39mformat(\u001b[38;5;124m\"\u001b[39m\u001b[38;5;124mmongodb\u001b[39m\u001b[38;5;124m\"\u001b[39m)\u001b[38;5;241m.\u001b[39mmode(\u001b[38;5;124m\"\u001b[39m\u001b[38;5;124mappend\u001b[39m\u001b[38;5;124m\"\u001b[39m)\u001b[38;5;241m.\u001b[39moption(\u001b[38;5;124m\"\u001b[39m\u001b[38;5;124mdatabase\u001b[39m\u001b[38;5;124m\"\u001b[39m, \u001b[38;5;124m\"\u001b[39m\u001b[38;5;124mcricketDatabase\u001b[39m\u001b[38;5;124m\"\u001b[39m)\u001b[38;5;241m.\u001b[39moption(\u001b[38;5;124m\"\u001b[39m\u001b[38;5;124mcollection\u001b[39m\u001b[38;5;124m\"\u001b[39m, \u001b[38;5;124m\"\u001b[39m\u001b[38;5;124mdeliveries\u001b[39m\u001b[38;5;124m\"\u001b[39m)\u001b[38;5;241m.\u001b[39msave()\n\u001b[0;32m     15\u001b[0m spark\u001b[38;5;241m.\u001b[39mstop()\n",
      "File \u001b[1;32m~\\anaconda3\\Lib\\site-packages\\pyspark\\sql\\readwriter.py:1461\u001b[0m, in \u001b[0;36mDataFrameWriter.save\u001b[1;34m(self, path, format, mode, partitionBy, **options)\u001b[0m\n\u001b[0;32m   1459\u001b[0m     \u001b[38;5;28mself\u001b[39m\u001b[38;5;241m.\u001b[39mformat(\u001b[38;5;28mformat\u001b[39m)\n\u001b[0;32m   1460\u001b[0m \u001b[38;5;28;01mif\u001b[39;00m path \u001b[38;5;129;01mis\u001b[39;00m \u001b[38;5;28;01mNone\u001b[39;00m:\n\u001b[1;32m-> 1461\u001b[0m     \u001b[38;5;28mself\u001b[39m\u001b[38;5;241m.\u001b[39m_jwrite\u001b[38;5;241m.\u001b[39msave()\n\u001b[0;32m   1462\u001b[0m \u001b[38;5;28;01melse\u001b[39;00m:\n\u001b[0;32m   1463\u001b[0m     \u001b[38;5;28mself\u001b[39m\u001b[38;5;241m.\u001b[39m_jwrite\u001b[38;5;241m.\u001b[39msave(path)\n",
      "File \u001b[1;32m~\\anaconda3\\Lib\\site-packages\\py4j\\java_gateway.py:1322\u001b[0m, in \u001b[0;36mJavaMember.__call__\u001b[1;34m(self, *args)\u001b[0m\n\u001b[0;32m   1316\u001b[0m command \u001b[38;5;241m=\u001b[39m proto\u001b[38;5;241m.\u001b[39mCALL_COMMAND_NAME \u001b[38;5;241m+\u001b[39m\\\n\u001b[0;32m   1317\u001b[0m     \u001b[38;5;28mself\u001b[39m\u001b[38;5;241m.\u001b[39mcommand_header \u001b[38;5;241m+\u001b[39m\\\n\u001b[0;32m   1318\u001b[0m     args_command \u001b[38;5;241m+\u001b[39m\\\n\u001b[0;32m   1319\u001b[0m     proto\u001b[38;5;241m.\u001b[39mEND_COMMAND_PART\n\u001b[0;32m   1321\u001b[0m answer \u001b[38;5;241m=\u001b[39m \u001b[38;5;28mself\u001b[39m\u001b[38;5;241m.\u001b[39mgateway_client\u001b[38;5;241m.\u001b[39msend_command(command)\n\u001b[1;32m-> 1322\u001b[0m return_value \u001b[38;5;241m=\u001b[39m get_return_value(\n\u001b[0;32m   1323\u001b[0m     answer, \u001b[38;5;28mself\u001b[39m\u001b[38;5;241m.\u001b[39mgateway_client, \u001b[38;5;28mself\u001b[39m\u001b[38;5;241m.\u001b[39mtarget_id, \u001b[38;5;28mself\u001b[39m\u001b[38;5;241m.\u001b[39mname)\n\u001b[0;32m   1325\u001b[0m \u001b[38;5;28;01mfor\u001b[39;00m temp_arg \u001b[38;5;129;01min\u001b[39;00m temp_args:\n\u001b[0;32m   1326\u001b[0m     \u001b[38;5;28;01mif\u001b[39;00m \u001b[38;5;28mhasattr\u001b[39m(temp_arg, \u001b[38;5;124m\"\u001b[39m\u001b[38;5;124m_detach\u001b[39m\u001b[38;5;124m\"\u001b[39m):\n",
      "File \u001b[1;32m~\\anaconda3\\Lib\\site-packages\\pyspark\\errors\\exceptions\\captured.py:179\u001b[0m, in \u001b[0;36mcapture_sql_exception.<locals>.deco\u001b[1;34m(*a, **kw)\u001b[0m\n\u001b[0;32m    177\u001b[0m \u001b[38;5;28;01mdef\u001b[39;00m \u001b[38;5;21mdeco\u001b[39m(\u001b[38;5;241m*\u001b[39ma: Any, \u001b[38;5;241m*\u001b[39m\u001b[38;5;241m*\u001b[39mkw: Any) \u001b[38;5;241m-\u001b[39m\u001b[38;5;241m>\u001b[39m Any:\n\u001b[0;32m    178\u001b[0m     \u001b[38;5;28;01mtry\u001b[39;00m:\n\u001b[1;32m--> 179\u001b[0m         \u001b[38;5;28;01mreturn\u001b[39;00m f(\u001b[38;5;241m*\u001b[39ma, \u001b[38;5;241m*\u001b[39m\u001b[38;5;241m*\u001b[39mkw)\n\u001b[0;32m    180\u001b[0m     \u001b[38;5;28;01mexcept\u001b[39;00m Py4JJavaError \u001b[38;5;28;01mas\u001b[39;00m e:\n\u001b[0;32m    181\u001b[0m         converted \u001b[38;5;241m=\u001b[39m convert_exception(e\u001b[38;5;241m.\u001b[39mjava_exception)\n",
      "File \u001b[1;32m~\\anaconda3\\Lib\\site-packages\\py4j\\protocol.py:326\u001b[0m, in \u001b[0;36mget_return_value\u001b[1;34m(answer, gateway_client, target_id, name)\u001b[0m\n\u001b[0;32m    324\u001b[0m value \u001b[38;5;241m=\u001b[39m OUTPUT_CONVERTER[\u001b[38;5;28mtype\u001b[39m](answer[\u001b[38;5;241m2\u001b[39m:], gateway_client)\n\u001b[0;32m    325\u001b[0m \u001b[38;5;28;01mif\u001b[39;00m answer[\u001b[38;5;241m1\u001b[39m] \u001b[38;5;241m==\u001b[39m REFERENCE_TYPE:\n\u001b[1;32m--> 326\u001b[0m     \u001b[38;5;28;01mraise\u001b[39;00m Py4JJavaError(\n\u001b[0;32m    327\u001b[0m         \u001b[38;5;124m\"\u001b[39m\u001b[38;5;124mAn error occurred while calling \u001b[39m\u001b[38;5;132;01m{0}\u001b[39;00m\u001b[38;5;132;01m{1}\u001b[39;00m\u001b[38;5;132;01m{2}\u001b[39;00m\u001b[38;5;124m.\u001b[39m\u001b[38;5;130;01m\\n\u001b[39;00m\u001b[38;5;124m\"\u001b[39m\u001b[38;5;241m.\u001b[39m\n\u001b[0;32m    328\u001b[0m         \u001b[38;5;28mformat\u001b[39m(target_id, \u001b[38;5;124m\"\u001b[39m\u001b[38;5;124m.\u001b[39m\u001b[38;5;124m\"\u001b[39m, name), value)\n\u001b[0;32m    329\u001b[0m \u001b[38;5;28;01melse\u001b[39;00m:\n\u001b[0;32m    330\u001b[0m     \u001b[38;5;28;01mraise\u001b[39;00m Py4JError(\n\u001b[0;32m    331\u001b[0m         \u001b[38;5;124m\"\u001b[39m\u001b[38;5;124mAn error occurred while calling \u001b[39m\u001b[38;5;132;01m{0}\u001b[39;00m\u001b[38;5;132;01m{1}\u001b[39;00m\u001b[38;5;132;01m{2}\u001b[39;00m\u001b[38;5;124m. Trace:\u001b[39m\u001b[38;5;130;01m\\n\u001b[39;00m\u001b[38;5;132;01m{3}\u001b[39;00m\u001b[38;5;130;01m\\n\u001b[39;00m\u001b[38;5;124m\"\u001b[39m\u001b[38;5;241m.\u001b[39m\n\u001b[0;32m    332\u001b[0m         \u001b[38;5;28mformat\u001b[39m(target_id, \u001b[38;5;124m\"\u001b[39m\u001b[38;5;124m.\u001b[39m\u001b[38;5;124m\"\u001b[39m, name, value))\n",
      "\u001b[1;31mPy4JJavaError\u001b[0m: An error occurred while calling o723.save.\n: org.apache.spark.SparkClassNotFoundException: [DATA_SOURCE_NOT_FOUND] Failed to find the data source: mongodb. Please find packages at `https://spark.apache.org/third-party-projects.html`.\r\n\tat org.apache.spark.sql.errors.QueryExecutionErrors$.dataSourceNotFoundError(QueryExecutionErrors.scala:724)\r\n\tat org.apache.spark.sql.execution.datasources.DataSource$.lookupDataSource(DataSource.scala:647)\r\n\tat org.apache.spark.sql.execution.datasources.DataSource$.lookupDataSourceV2(DataSource.scala:697)\r\n\tat org.apache.spark.sql.DataFrameWriter.lookupV2Provider(DataFrameWriter.scala:863)\r\n\tat org.apache.spark.sql.DataFrameWriter.saveInternal(DataFrameWriter.scala:257)\r\n\tat org.apache.spark.sql.DataFrameWriter.save(DataFrameWriter.scala:248)\r\n\tat jdk.internal.reflect.GeneratedMethodAccessor89.invoke(Unknown Source)\r\n\tat java.base/jdk.internal.reflect.DelegatingMethodAccessorImpl.invoke(DelegatingMethodAccessorImpl.java:43)\r\n\tat java.base/java.lang.reflect.Method.invoke(Method.java:568)\r\n\tat py4j.reflection.MethodInvoker.invoke(MethodInvoker.java:244)\r\n\tat py4j.reflection.ReflectionEngine.invoke(ReflectionEngine.java:374)\r\n\tat py4j.Gateway.invoke(Gateway.java:282)\r\n\tat py4j.commands.AbstractCommand.invokeMethod(AbstractCommand.java:132)\r\n\tat py4j.commands.CallCommand.execute(CallCommand.java:79)\r\n\tat py4j.ClientServerConnection.waitForCommands(ClientServerConnection.java:182)\r\n\tat py4j.ClientServerConnection.run(ClientServerConnection.java:106)\r\n\tat java.base/java.lang.Thread.run(Thread.java:842)\r\nCaused by: java.lang.ClassNotFoundException: mongodb.DefaultSource\r\n\tat java.base/java.net.URLClassLoader.findClass(URLClassLoader.java:445)\r\n\tat java.base/java.lang.ClassLoader.loadClass(ClassLoader.java:587)\r\n\tat java.base/java.lang.ClassLoader.loadClass(ClassLoader.java:520)\r\n\tat org.apache.spark.sql.execution.datasources.DataSource$.$anonfun$lookupDataSource$5(DataSource.scala:633)\r\n\tat scala.util.Try$.apply(Try.scala:213)\r\n\tat org.apache.spark.sql.execution.datasources.DataSource$.$anonfun$lookupDataSource$4(DataSource.scala:633)\r\n\tat scala.util.Failure.orElse(Try.scala:224)\r\n\tat org.apache.spark.sql.execution.datasources.DataSource$.lookupDataSource(DataSource.scala:633)\r\n\t... 15 more\r\n"
     ]
    }
   ],
   "source": [
    "#Create to MondoDB\n",
    "\n",
    "from pyspark import SparkContext\n",
    "from pyspark.sql import SQLContext\n",
    "\n",
    "\n",
    "spark = SparkSession.builder \\\n",
    "    .appName(\"mongoDBBridge\") \\\n",
    "    .config(\"spark.jars.packages\", \"org.mongodb.spark:mongo-spark-connector_2.12:10.0.0\") \\\n",
    "    .config(\"spark.mongodb.read.connection.uri\",\"mongodb://localhost:27017/cricketDatabase\") \\\n",
    "    .getOrCreate()\n",
    "\n",
    "matches_df.write.format(\"mongodb\").option(\"replaceDocument\", \"true\").option(\"database\", \"cricketDatabase\").option(\"collection\", \"matches\").save()   \n",
    "deliveries_df.write.format(\"mongodb\").mode(\"append\").option(\"database\", \"cricketDatabase\").option(\"collection\", \"deliveries\").save()\n",
    "spark.stop()\n"
   ]
  },
  {
   "cell_type": "code",
   "execution_count": 27,
   "id": "cd89292c",
   "metadata": {},
   "outputs": [
    {
     "name": "stdout",
     "output_type": "stream",
     "text": [
      "Collecting pymongo\n",
      "  Downloading pymongo-4.8.0-cp311-cp311-win_amd64.whl.metadata (22 kB)\n",
      "Collecting dnspython<3.0.0,>=1.16.0 (from pymongo)\n",
      "  Downloading dnspython-2.6.1-py3-none-any.whl.metadata (5.8 kB)\n",
      "Downloading pymongo-4.8.0-cp311-cp311-win_amd64.whl (630 kB)\n",
      "   ---------------------------------------- 0.0/631.0 kB ? eta -:--:--\n",
      "   ---------------------- ----------------- 348.2/631.0 kB 7.2 MB/s eta 0:00:01\n",
      "   ---------------------------------------- 631.0/631.0 kB 9.9 MB/s eta 0:00:00\n",
      "Downloading dnspython-2.6.1-py3-none-any.whl (307 kB)\n",
      "   ---------------------------------------- 0.0/307.7 kB ? eta -:--:--\n",
      "   --------------------------------------- 307.7/307.7 kB 18.6 MB/s eta 0:00:00\n",
      "Installing collected packages: dnspython, pymongo\n",
      "Successfully installed dnspython-2.6.1 pymongo-4.8.0\n",
      "Note: you may need to restart the kernel to use updated packages.\n"
     ]
    }
   ],
   "source": [
    "pip install pymongo"
   ]
  },
  {
   "cell_type": "code",
   "execution_count": 43,
   "id": "ef7aa85c",
   "metadata": {},
   "outputs": [
    {
     "data": {
      "text/plain": [
       "'\\n#essai avec pymongo ?\\nfrom pymongo import MongoClient\\n\\nspark = SparkSession.builder     .appName(\"MongoDBBridge\")     .getOrCreate()\\n\\nclient = MongoClient(\"mongodb://localhost:27017/\")\\ndb = client.cricketDatabase\\nprint(db)\\n'"
      ]
     },
     "execution_count": 43,
     "metadata": {},
     "output_type": "execute_result"
    }
   ],
   "source": [
    "\"\"\"\n",
    "#essai avec pymongo ?\n",
    "from pymongo import MongoClient\n",
    "\n",
    "spark = SparkSession.builder \\\n",
    "    .appName(\"MongoDBBridge\") \\\n",
    "    .getOrCreate()\n",
    "\n",
    "client = MongoClient(\"mongodb://localhost:27017/\")\n",
    "db = client.cricketDatabase\n",
    "print(db)\n",
    "\"\"\""
   ]
  },
  {
   "cell_type": "code",
   "execution_count": null,
   "id": "5ec4a366",
   "metadata": {},
   "outputs": [],
   "source": []
  }
 ],
 "metadata": {
  "kernelspec": {
   "display_name": "Python 3 (ipykernel)",
   "language": "python",
   "name": "python3"
  },
  "language_info": {
   "codemirror_mode": {
    "name": "ipython",
    "version": 3
   },
   "file_extension": ".py",
   "mimetype": "text/x-python",
   "name": "python",
   "nbconvert_exporter": "python",
   "pygments_lexer": "ipython3",
   "version": "3.11.7"
  }
 },
 "nbformat": 4,
 "nbformat_minor": 5
}
